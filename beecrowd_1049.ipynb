{
 "cells": [
  {
   "cell_type": "markdown",
   "metadata": {},
   "source": [
    "Neste problema, você deverá ler 3 palavras que definem o tipo de animal possível segundo o esquema abaixo, da esquerda para a direita.  Em seguida conclua qual dos animais seguintes foi escolhido, através das três palavras fornecidas."
   ]
  },
  {
   "cell_type": "markdown",
   "metadata": {},
   "source": [
    "O método get()Nesta solução, usamos um dicionário chamado animais para mapear as combinações de palavras para os animais correspondentes.  é usado para procurar a combinação de palavras fornecida no dicionário e retornar o animal correspondente. Se a combinação de palavras não for encontrada no dicionário, a mensagem \"Animal nao encontrado\" será exibida."
   ]
  },
  {
   "cell_type": "code",
   "execution_count": 19,
   "metadata": {},
   "outputs": [
    {
     "name": "stdout",
     "output_type": "stream",
     "text": [
      "homem\n"
     ]
    }
   ],
   "source": [
    "# Lendo as palavras de entrada\n",
    "A = input()\n",
    "B = input()\n",
    "C = input()\n",
    "\n",
    "# Definindo os esquemas dos animais\n",
    "animais = {\n",
    "    ('vertebrado', 'ave', 'carnivoro'): 'aguia',\n",
    "    ('vertebrado', 'ave', 'onivoro'): 'pomba',\n",
    "    ('vertebrado', 'mamifero', 'onivoro'): 'homem',\n",
    "    ('vertebrado', 'mamifero', 'herbivoro'): 'vaca',\n",
    "    ('invertebrado', 'inseto', 'hematofago'): 'pulga',\n",
    "    ('invertebrado', 'inseto', 'herbivoro'): 'lagarta',\n",
    "    ('invertebrado', 'anelideo', 'hematofago'): 'sanguessuga',\n",
    "    ('invertebrado', 'anelideo', 'onivoro'): 'minhoca'\n",
    "}\n",
    "\n",
    "# Encontrando o animal correspondente\n",
    "animal_escolhido = animais.get((A, B, C), 'Animal nao encontrado')\n",
    "\n",
    "# Exibindo o resultado\n",
    "print(animal_escolhido)\n"
   ]
  },
  {
   "cell_type": "code",
   "execution_count": null,
   "metadata": {},
   "outputs": [],
   "source": []
  }
 ],
 "metadata": {
  "kernelspec": {
   "display_name": "Python 3",
   "language": "python",
   "name": "python3"
  },
  "language_info": {
   "codemirror_mode": {
    "name": "ipython",
    "version": 3
   },
   "file_extension": ".py",
   "mimetype": "text/x-python",
   "name": "python",
   "nbconvert_exporter": "python",
   "pygments_lexer": "ipython3",
   "version": "3.11.3"
  },
  "orig_nbformat": 4
 },
 "nbformat": 4,
 "nbformat_minor": 2
}
