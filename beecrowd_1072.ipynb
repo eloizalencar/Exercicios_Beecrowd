{
 "cells": [
  {
   "cell_type": "markdown",
   "metadata": {},
   "source": [
    "Leia um valor inteiro N. Este valor será a quantidade de valores inteiros X que serão lidos em seguida.\n",
    "Mostre quantos destes valores X estão dentro do intervalo [10,20] e quantos estão fora do intervalo, mostrando essas informações.\n",
    "\n",
    "Entrada\n",
    "A primeira linha da entrada contém um valor inteiro N (N < 10000), que indica o número de casos de teste.\n",
    "Cada caso de teste a seguir é um valor inteiro X (-107 < X <107).\n",
    " \n",
    "\n",
    "Saída\n",
    "Para cada caso, imprima quantos números estão dentro (in) e quantos valores estão fora (out) do intervalo."
   ]
  },
  {
   "cell_type": "markdown",
   "metadata": {},
   "source": [
    "A gente declarou o N, e declarou quais seria dentro ou fora do intervalo.\n",
    "usamos o for para que ele repetisse N vezes a variavel. depois utilizamos if ou esle para ver se o x estava dentro do intervalo.\n",
    "Se tivesse, adicionava 1 na variavel dentro, se não adicionava 1 na variavel fora."
   ]
  },
  {
   "cell_type": "code",
   "execution_count": 1,
   "metadata": {},
   "outputs": [
    {
     "name": "stdout",
     "output_type": "stream",
     "text": [
      "2 in\n",
      "2 out\n"
     ]
    }
   ],
   "source": [
    "N = int(input())\n",
    "dentro = 0\n",
    "fora = 0\n",
    "for _ in range(N):\n",
    "    X = int(input())\n",
    "    if 10 <= X <= 20:\n",
    "        dentro += 1\n",
    "    else : \n",
    "        fora += 1\n",
    "\n",
    "print(f\"{dentro} in\")\n",
    "print(f\"{fora} out\")"
   ]
  },
  {
   "cell_type": "code",
   "execution_count": null,
   "metadata": {},
   "outputs": [],
   "source": []
  }
 ],
 "metadata": {
  "kernelspec": {
   "display_name": "Python 3",
   "language": "python",
   "name": "python3"
  },
  "language_info": {
   "codemirror_mode": {
    "name": "ipython",
    "version": 3
   },
   "file_extension": ".py",
   "mimetype": "text/x-python",
   "name": "python",
   "nbconvert_exporter": "python",
   "pygments_lexer": "ipython3",
   "version": "3.11.3"
  },
  "orig_nbformat": 4
 },
 "nbformat": 4,
 "nbformat_minor": 2
}
