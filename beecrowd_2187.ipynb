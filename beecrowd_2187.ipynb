{
 "cells": [
  {
   "cell_type": "code",
   "execution_count": 9,
   "metadata": {},
   "outputs": [
    {
     "name": "stdout",
     "output_type": "stream",
     "text": [
      "Teste 1\n",
      "0 0 0 1\n",
      "\n",
      "Teste 2\n",
      "1 2 0 2\n",
      "\n"
     ]
    }
   ],
   "source": [
    "teste = 1\n",
    "while True:\n",
    "    V = int(input())\n",
    "    if V ==0:\n",
    "        break\n",
    "    n50 = V // 50\n",
    "    V %= 50\n",
    "    n10 = V // 10\n",
    "    V %= 10\n",
    "    n5 = V // 5\n",
    "    V %= 5\n",
    "    n1 = V % 5\n",
    "\n",
    "    print(f\"Teste {teste}\")\n",
    "    print(f\"{n50} {n10} {n5} {n1}\")\n",
    "    print()\n",
    "    teste += 1"
   ]
  },
  {
   "cell_type": "code",
   "execution_count": null,
   "metadata": {},
   "outputs": [],
   "source": []
  }
 ],
 "metadata": {
  "kernelspec": {
   "display_name": "Python 3",
   "language": "python",
   "name": "python3"
  },
  "language_info": {
   "codemirror_mode": {
    "name": "ipython",
    "version": 3
   },
   "file_extension": ".py",
   "mimetype": "text/x-python",
   "name": "python",
   "nbconvert_exporter": "python",
   "pygments_lexer": "ipython3",
   "version": "3.11.3"
  },
  "orig_nbformat": 4
 },
 "nbformat": 4,
 "nbformat_minor": 2
}
