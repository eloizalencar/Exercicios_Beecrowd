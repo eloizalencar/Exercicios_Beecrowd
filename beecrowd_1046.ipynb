{
 "cells": [
  {
   "cell_type": "markdown",
   "metadata": {},
   "source": [
    "Leia a hora inicial e a hora final de um jogo. A seguir calcule a duração do jogo, sabendo que o mesmo pode começar em um dia e terminar em outro, tendo uma duração mínima de 1 hora e máxima de 24 horas."
   ]
  },
  {
   "cell_type": "code",
   "execution_count": 9,
   "metadata": {},
   "outputs": [
    {
     "name": "stdout",
     "output_type": "stream",
     "text": [
      "O JOGO DUROU 14 HORA(S)\n"
     ]
    }
   ],
   "source": [
    "hi , hf = map(int, input().split())\n",
    "\n",
    "if (hi == hf):\n",
    "    horas = 24\n",
    "    print(\"O JOGO DUROU {} HORA(S)\".format(horas))\n",
    "\n",
    "elif (hi < hf):\n",
    "    horas = (hf - hi)\n",
    "    print(\"O JOGO DUROU {} HORA(S)\".format(horas))\n",
    "\n",
    "else:\n",
    "    horas = 24 - (hi - hf)\n",
    "    print(\"O JOGO DUROU {} HORA(S)\".format(horas))"
   ]
  },
  {
   "cell_type": "code",
   "execution_count": null,
   "metadata": {},
   "outputs": [],
   "source": []
  }
 ],
 "metadata": {
  "kernelspec": {
   "display_name": "Python 3",
   "language": "python",
   "name": "python3"
  },
  "language_info": {
   "codemirror_mode": {
    "name": "ipython",
    "version": 3
   },
   "file_extension": ".py",
   "mimetype": "text/x-python",
   "name": "python",
   "nbconvert_exporter": "python",
   "pygments_lexer": "ipython3",
   "version": "3.11.3"
  },
  "orig_nbformat": 4
 },
 "nbformat": 4,
 "nbformat_minor": 2
}
