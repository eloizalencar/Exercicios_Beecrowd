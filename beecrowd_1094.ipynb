{
 "cells": [
  {
   "cell_type": "markdown",
   "metadata": {},
   "source": [
    "Maria acabou de iniciar seu curso de graduação na faculdade de medicina e precisa de sua ajuda para organizar os experimentos de um laboratório o qual ela é responsável. Ela quer saber no final do ano, quantas cobaias foram utilizadas no laboratório e o percentual de cada tipo de cobaia utilizada.\n",
    "\n",
    "Este laboratório em especial utiliza três tipos de cobaias: sapos, ratos e coelhos. Para obter estas informações, ela sabe exatamente o número de experimentos que foram realizados, o tipo de cobaia utilizada e a quantidade de cobaias utilizadas em cada experimento.\n",
    "\n",
    "Entrada\n",
    "A primeira linha de entrada contém um valor inteiro N que indica os vários casos de teste que vem a seguir. Cada caso de teste contém um inteiro Quantia (1 ≤ Quantia ≤ 15) que representa a quantidade de cobaias utilizadas e um caractere Tipo ('C', 'R' ou 'S'), indicando o tipo de cobaia (R:Rato S:Sapo C:Coelho).\n",
    "\n",
    "Saída\n",
    "Apresente o total de cobaias utilizadas, o total de cada tipo de cobaia utilizada e o percentual de cada uma em relação ao total de cobaias utilizadas, sendo que o percentual deve ser apresentado com dois dígitos após o ponto."
   ]
  },
  {
   "cell_type": "markdown",
   "metadata": {},
   "source": [
    "N = int(input()): Lê o número de casos de teste.\n",
    "\n",
    "total = 0: Inicializa a variável total que será usada para armazenar o número total de cobaias utilizadas em todos os casos de teste.\n",
    "\n",
    "cobaias = {'C': 0, 'R': 0, 'S': 0}: Inicializa um dicionário chamado cobaias para contar o número de cada tipo de cobaia. As chaves 'C', 'R' e 'S' representam os tipos de cobaia (coelhos, ratos e sapos), e os valores iniciais são definidos como 0 para cada tipo.\n",
    "\n",
    "for _ in range(N):: Inicia um loop que percorre cada caso de teste.\n",
    "\n",
    "a. quantidade, tipo = input().split(): Lê a quantidade de cobaias e o tipo de cobaia para o caso de teste atual.\n",
    "\n",
    "b. quantidade = int(quantidade): Converte a quantidade de cobaias para um número inteiro.\n",
    "\n",
    "c. total += quantidade: Adiciona a quantidade de cobaias do caso de teste atual ao total.\n",
    "\n",
    "d. cobaias[tipo] += quantidade: Atualiza o dicionário cobaias com a quantidade de cobaias do tipo especificado no caso de teste.\n",
    "\n",
    "percentuais = {tipo: (cobaias[tipo] / total) * 100 for tipo in cobaias}: Calcula os percentuais de cada tipo de cobaia em relação ao total de cobaias. Isso é feito usando uma compreensão de dicionário, onde para cada tipo de cobaia, é calculado o percentual (cobaias[tipo] / total) * 100.\n",
    "\n",
    "Impressão dos resultados:\n",
    "\n",
    "a. print(\"Total: {} cobaias\".format(total)): Imprime o total de cobaias utilizadas.\n",
    "\n",
    "b. print(\"Total de coelhos:\", cobaias['C']): Imprime o total de coelhos.\n",
    "\n",
    "c. print(\"Total de ratos:\", cobaias['R']): Imprime o total de ratos.\n",
    "\n",
    "d. print(\"Total de sapos:\", cobaias['S']): Imprime o total de sapos.\n",
    "\n",
    "e. print(\"Percentual de coelhos: {:.2f} %\".format(percentuais['C'])): Imprime o percentual de coelhos com 2 casas decimais.\n",
    "\n",
    "f. print(\"Percentual de ratos: {:.2f} %\".format(percentuais['R'])): Imprime o percentual de ratos com 2 casas decimais.\n",
    "\n",
    "g. print(\"Percentual de sapos: {:.2f} %\".format(percentuais['S'])): Imprime o percentual de sapos com 2 casas decimais.\n",
    "\n",
    "O código lê os casos de teste, conta a quantidade de cada tipo de cobaia, calcula os percentuais e imprime os resultados de acordo com o formato especificado no problema.\n",
    "\n",
    "\n",
    "\n",
    "\n"
   ]
  },
  {
   "cell_type": "code",
   "execution_count": 13,
   "metadata": {},
   "outputs": [
    {
     "name": "stdout",
     "output_type": "stream",
     "text": [
      "Total: 92 cobaias\n",
      "Total de coelhos: 29\n",
      "Total de ratos: 40\n",
      "Total de sapos: 23\n",
      "Percentual de coelhos: 31.52 %\n",
      "Percentual de ratos: 43.48 %\n",
      "Percentual de sapos: 25.00 %\n"
     ]
    }
   ],
   "source": [
    "N = int(input())\n",
    "total = 0\n",
    "cobaias = { \n",
    "    'C' : 0,\n",
    "    \"R\" : 0,\n",
    "    \"S\" : 0\n",
    "}\n",
    "for _ in range(N):\n",
    "    q, t = input().split()\n",
    "    q = int(q)\n",
    "    total += q\n",
    "    cobaias[t] += q\n",
    "percentual = {t: (cobaias[t] / total) * 100 for t in cobaias}\n",
    "print(f\"Total: {total} cobaias\")\n",
    "print(\"Total de coelhos:\", cobaias[\"C\"])\n",
    "print(\"Total de ratos:\", cobaias[\"R\"])\n",
    "print(\"Total de sapos:\", cobaias[\"S\"])\n",
    "print(\"Percentual de coelhos: {:.2f} %\".format(percentual['C']))\n",
    "print(\"Percentual de ratos: {:.2f} %\".format(percentual['R']))\n",
    "print(\"Percentual de sapos: {:.2f} %\".format(percentual['S']))\n"
   ]
  }
 ],
 "metadata": {
  "kernelspec": {
   "display_name": "Python 3",
   "language": "python",
   "name": "python3"
  },
  "language_info": {
   "codemirror_mode": {
    "name": "ipython",
    "version": 3
   },
   "file_extension": ".py",
   "mimetype": "text/x-python",
   "name": "python",
   "nbconvert_exporter": "python",
   "pygments_lexer": "ipython3",
   "version": "3.11.3"
  },
  "orig_nbformat": 4
 },
 "nbformat": 4,
 "nbformat_minor": 2
}
