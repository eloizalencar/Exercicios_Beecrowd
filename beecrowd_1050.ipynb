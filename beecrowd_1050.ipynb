{
 "cells": [
  {
   "cell_type": "markdown",
   "metadata": {},
   "source": [
    "Leia um número inteiro que representa um código de DDD para discagem interurbana. Em seguida, informe à qual cidade o DDD pertence, considerando a tabela abaixo:\n",
    "\n",
    "Se a entrada for qualquer outro DDD que não esteja presente na tabela acima, o programa deverá informar:\n",
    "DDD nao cadastrado"
   ]
  },
  {
   "cell_type": "code",
   "execution_count": 9,
   "metadata": {},
   "outputs": [
    {
     "name": "stdout",
     "output_type": "stream",
     "text": [
      "Campinas\n"
     ]
    }
   ],
   "source": [
    "ddd = int(input())\n",
    "ddd = str(int(ddd))\n",
    "local = {\n",
    "    ('61') : \"Brasilia\",\n",
    "    (\"71\") : 'Salvador',\n",
    "    ('11') : 'Sao Paulo',\n",
    "    (\"21\") : 'Rio de Janeiro',\n",
    "    (\"32\") : 'Juiz de Fora',\n",
    "    (\"19\") : \"Campinas\",\n",
    "    ('27') : \"Vitoria\",\n",
    "    (\"31\") : \"Belo Horizonte\"\n",
    "\n",
    "}\n",
    "\n",
    "DDD_localizado = local.get((ddd), \"DDD nao cadastrado\")\n",
    "print(DDD_localizado)"
   ]
  },
  {
   "cell_type": "code",
   "execution_count": null,
   "metadata": {},
   "outputs": [],
   "source": []
  }
 ],
 "metadata": {
  "kernelspec": {
   "display_name": "Python 3",
   "language": "python",
   "name": "python3"
  },
  "language_info": {
   "codemirror_mode": {
    "name": "ipython",
    "version": 3
   },
   "file_extension": ".py",
   "mimetype": "text/x-python",
   "name": "python",
   "nbconvert_exporter": "python",
   "pygments_lexer": "ipython3",
   "version": "3.11.3"
  },
  "orig_nbformat": 4
 },
 "nbformat": 4,
 "nbformat_minor": 2
}
