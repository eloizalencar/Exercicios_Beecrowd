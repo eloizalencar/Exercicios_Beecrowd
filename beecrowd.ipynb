{
 "cells": [
  {
   "cell_type": "code",
   "execution_count": null,
   "metadata": {},
   "outputs": [],
   "source": [
    "nomes = []\n",
    "\n",
    "# Lê os nomes das crianças boas até EOF (Ctrl + D)\n",
    "while True:\n",
    "    try:\n",
    "        nome = input()\n",
    "        if not nome:\n",
    "            break\n",
    "        nomes.append(nome)\n",
    "    except EOFError:\n",
    "        break\n",
    "    # Ordena os nomes em ordem alfabética, considerando maiúsculas e minúsculas como iguais\n",
    "nomes.sort(key=lambda x: x.lower())\n",
    "\n",
    "    # Imprime o último nome da lista (o nome que fica na última posição depois de ordenar)\n",
    "print(nomes[-1])"
   ]
  }
 ],
 "metadata": {
  "language_info": {
   "name": "python"
  },
  "orig_nbformat": 4
 },
 "nbformat": 4,
 "nbformat_minor": 2
}
