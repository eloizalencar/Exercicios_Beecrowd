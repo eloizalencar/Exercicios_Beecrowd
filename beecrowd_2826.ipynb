{
 "cells": [
  {
   "cell_type": "markdown",
   "metadata": {},
   "source": [
    "Como se sabe, léxico é o conjunto de palavras que existe em uma língua. Nas línguas ocidentais, é comum escrever usando o alfabeto latino, com 26 letras que vão de a até z.\n",
    "\n",
    "É comum enumerar as letras na seguinte ordem: a, b, c, d, e f, g, h, i, j, k, l, m, n, o, p, q, r, s, t, u, v, w, x, y, z.\n",
    "\n",
    "Se uma lista de palavras está organizadas de acordo com esta ordem, fica muito mais rápido pesquisá-las. Seu trabalho neste problema é ordenar duas palavras de acordo com esta ordem.\n",
    "\n",
    "Sejam duas palavras A e B. Caso o primeiro caractere de A venha antes do primeiro de B, coloca-se A antes de B. Se o primeiro caractere for igual, usa-se o seguinte para desempate. E se o segundo empatar, usa-se o terceiro, etc. Quando todos os caracteres de A forem iguais ao começo de B, ou todos os de B forem iguais ao começo de A, coloca-se a menor palavra primeiro.\n",
    "\n",
    "Entrada\n",
    "A entrada contém 2 palavras com caracteres minúsculos de a até z, O comprimento das palavras não ultrapassa 20 caracteres.\n",
    "\n",
    "Saída\n",
    "A saída contém as mesmas 2 palavras, só que na ordem lexicográfica.\n",
    "\n"
   ]
  },
  {
   "cell_type": "code",
   "execution_count": 3,
   "metadata": {},
   "outputs": [
    {
     "name": "stdout",
     "output_type": "stream",
     "text": [
      "abc\n",
      "edf\n"
     ]
    }
   ],
   "source": [
    "p1 = input()\n",
    "p2 = input()\n",
    "p1, p2 = sorted([p1, p2])\n",
    "print(f\"{p1}\\n{p2}\")\n",
    "\n"
   ]
  },
  {
   "cell_type": "code",
   "execution_count": null,
   "metadata": {},
   "outputs": [],
   "source": []
  }
 ],
 "metadata": {
  "kernelspec": {
   "display_name": "Python 3",
   "language": "python",
   "name": "python3"
  },
  "language_info": {
   "codemirror_mode": {
    "name": "ipython",
    "version": 3
   },
   "file_extension": ".py",
   "mimetype": "text/x-python",
   "name": "python",
   "nbconvert_exporter": "python",
   "pygments_lexer": "ipython3",
   "version": "3.11.3"
  },
  "orig_nbformat": 4
 },
 "nbformat": 4,
 "nbformat_minor": 2
}
