{
 "cells": [
  {
   "cell_type": "markdown",
   "metadata": {},
   "source": [
    "Escreva um programa para ler as notas da primeira e a segunda avaliação de um aluno. Calcule e imprima a média semestral. O programa só deverá aceitar notas válidas (uma nota válida deve pertencer ao intervalo [0,10]). Cada nota deve ser validada separadamente.\n",
    "\n",
    "No final deve ser impressa a mensagem “novo calculo (1-sim 2-nao)”, solicitando ao usuário que informe um código (1 ou 2) indicando se ele deseja ou não executar o algoritmo novamente, (aceitar apenas os código 1 ou 2). Se for informado o código 1 deve ser repetida a execução de todo o programa para permitir um novo cálculo, caso contrário o programa deve ser encerrado.\n",
    "\n",
    "Entrada\n",
    "O arquivo de entrada contém vários valores reais, positivos ou negativos. Quando forem lidas duas notas válidas, deve ser lido um valor inteiro X . O programa deve parar quando o valor lido para este X for igual a 2.\n",
    "\n",
    "Saída\n",
    "Se uma nota inválida for lida, deve ser impressa a mensagem “nota invalida”. Quando duas notas válidas forem lidas, deve ser impressa a mensagem “media = ” seguido do valor do cálculo.\n",
    "\n",
    "Antes da leitura de X deve ser impressa a mensagem \"novo calculo (1-sim 2-nao)\" e esta mensagem deve ser apresentada novamente se o valor da entrada padrão para X for menor do que 1 ou maior do que 2, conforme o exemplo abaixo.\n",
    "\n",
    "A média deve ser impressa com dois dígitos após o ponto decimal."
   ]
  },
  {
   "cell_type": "code",
   "execution_count": 2,
   "metadata": {},
   "outputs": [
    {
     "name": "stdout",
     "output_type": "stream",
     "text": [
      "nota invalida\n",
      "nota invalida\n",
      "media = 6.75\n",
      "novo calculo (1-sim 2-nao)\n",
      "media = 2.50\n",
      "novo calculo (1-sim 2-nao)\n"
     ]
    }
   ],
   "source": [
    "while True:\n",
    "    notas_validas = 0\n",
    "    soma_notas = 0\n",
    "    \n",
    "    while notas_validas < 2:\n",
    "        nota = float(input())\n",
    "        \n",
    "        if 0 <= nota <= 10:\n",
    "            notas_validas += 1\n",
    "            soma_notas += nota\n",
    "        else:\n",
    "            print(\"nota invalida\")\n",
    "    \n",
    "    media = soma_notas / 2\n",
    "    print(f\"media = {media:.2f}\")\n",
    "    \n",
    "    while True:\n",
    "        print(\"novo calculo (1-sim 2-nao)\")\n",
    "        opcao = int(input())\n",
    "        \n",
    "        if opcao == 1 or opcao == 2:\n",
    "            break\n",
    "    \n",
    "    if opcao == 2:\n",
    "        break\n"
   ]
  },
  {
   "cell_type": "code",
   "execution_count": null,
   "metadata": {},
   "outputs": [],
   "source": []
  }
 ],
 "metadata": {
  "kernelspec": {
   "display_name": "Python 3",
   "language": "python",
   "name": "python3"
  },
  "language_info": {
   "codemirror_mode": {
    "name": "ipython",
    "version": 3
   },
   "file_extension": ".py",
   "mimetype": "text/x-python",
   "name": "python",
   "nbconvert_exporter": "python",
   "pygments_lexer": "ipython3",
   "version": "3.11.3"
  },
  "orig_nbformat": 4
 },
 "nbformat": 4,
 "nbformat_minor": 2
}
