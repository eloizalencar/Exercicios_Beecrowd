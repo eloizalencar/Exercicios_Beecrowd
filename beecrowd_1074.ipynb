{
 "cells": [
  {
   "cell_type": "markdown",
   "metadata": {},
   "source": [
    "Leia um valor inteiro N. Este valor será a quantidade de valores que serão lidos em seguida. Para cada valor lido, mostre uma mensagem em inglês dizendo se este valor lido é par (EVEN), ímpar (ODD), positivo (POSITIVE) ou negativo (NEGATIVE). No caso do valor ser igual a zero (0), embora a descrição correta seja (EVEN NULL), pois por definição zero é par, seu programa deverá imprimir apenas NULL.\n",
    "\n",
    "Entrada\n",
    "A primeira linha da entrada contém um valor inteiro N(N < 10000) que indica o número de casos de teste. Cada caso de teste a seguir é um valor inteiro X (-107 < X <107).\n",
    "\n",
    "Saída\n",
    "Para cada caso, imprima uma mensagem correspondente, de acordo com o exemplo abaixo. Todas as letras deverão ser maiúsculas e sempre deverá haver um espaço entre duas palavras impressas na mesma linha."
   ]
  },
  {
   "cell_type": "code",
   "execution_count": 2,
   "metadata": {},
   "outputs": [
    {
     "name": "stdout",
     "output_type": "stream",
     "text": [
      "ODD NEGATIVE\n",
      "NULL\n",
      "ODD POSITIVE\n",
      "EVEN NEGATIVE\n"
     ]
    }
   ],
   "source": [
    "n = int(input())\n",
    "for _ in range(n):\n",
    "    X = int(input())\n",
    "    if X == 0:\n",
    "        print(\"NULL\")\n",
    "    elif X % 2 == 0 and X >= 0:\n",
    "        print(\"EVEN POSITIVE\")\n",
    "    elif X % 2 == 0 and X < 0:\n",
    "        print(\"EVEN NEGATIVE\")\n",
    "    elif X % 2 != 0 and X >= 0:\n",
    "        print(\"ODD POSITIVE\")\n",
    "    else:\n",
    "        X % 2 != 0 and X < 0\n",
    "        print(\"ODD NEGATIVE\")\n"
   ]
  },
  {
   "cell_type": "code",
   "execution_count": null,
   "metadata": {},
   "outputs": [],
   "source": []
  }
 ],
 "metadata": {
  "kernelspec": {
   "display_name": "Python 3",
   "language": "python",
   "name": "python3"
  },
  "language_info": {
   "codemirror_mode": {
    "name": "ipython",
    "version": 3
   },
   "file_extension": ".py",
   "mimetype": "text/x-python",
   "name": "python",
   "nbconvert_exporter": "python",
   "pygments_lexer": "ipython3",
   "version": "3.11.3"
  },
  "orig_nbformat": 4
 },
 "nbformat": 4,
 "nbformat_minor": 2
}
