{
 "cells": [
  {
   "cell_type": "markdown",
   "metadata": {},
   "source": [
    "Calcule o consumo médio de um automóvel sendo fornecidos a distância total percorrida (em Km) e o total de combustível gasto (em litros)."
   ]
  },
  {
   "cell_type": "markdown",
   "metadata": {},
   "source": [
    "O consumo médio de combustível de um automóvel é uma razão que divide a distância percorrida pela quantidade de combustível que foi utilizada. As unidades de medida padronizadas para essas grandezas são quilômetros (km), para distância percorrida, e litros (l), para a quantidade de combustível gasto."
   ]
  },
  {
   "cell_type": "code",
   "execution_count": 1,
   "metadata": {},
   "outputs": [],
   "source": [
    "#declarando as variaveis\n",
    "X = int(input())\n",
    "Y = float(input())"
   ]
  },
  {
   "cell_type": "code",
   "execution_count": 5,
   "metadata": {},
   "outputs": [
    {
     "name": "stdout",
     "output_type": "stream",
     "text": [
      "14.286 km/l\n"
     ]
    }
   ],
   "source": [
    "#Calculando \n",
    "consumo = X / Y\n",
    "\n",
    "# resultado\n",
    "print(f\"{consumo:.3f} km/l\")"
   ]
  },
  {
   "cell_type": "code",
   "execution_count": null,
   "metadata": {},
   "outputs": [],
   "source": []
  }
 ],
 "metadata": {
  "kernelspec": {
   "display_name": "Python 3",
   "language": "python",
   "name": "python3"
  },
  "language_info": {
   "codemirror_mode": {
    "name": "ipython",
    "version": 3
   },
   "file_extension": ".py",
   "mimetype": "text/x-python",
   "name": "python",
   "nbconvert_exporter": "python",
   "pygments_lexer": "ipython3",
   "version": "3.11.3"
  },
  "orig_nbformat": 4
 },
 "nbformat": 4,
 "nbformat_minor": 2
}
