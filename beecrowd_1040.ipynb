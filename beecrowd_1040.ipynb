{
 "cells": [
  {
   "cell_type": "markdown",
   "metadata": {},
   "source": [
    "Leia quatro números (N1, N2, N3, N4), cada um deles com uma casa decimal, correspondente às quatro notas de um aluno. Calcule a média com pesos 2, 3, 4 e 1, respectivamente, para cada uma destas notas e mostre esta média acompanhada pela mensagem \"Media: \". Se esta média for maior ou igual a 7.0, imprima a mensagem \"Aluno aprovado.\". Se a média calculada for inferior a 5.0, imprima a mensagem \"Aluno reprovado.\". Se a média calculada for um valor entre 5.0 e 6.9, inclusive estas, o programa deve imprimir a mensagem \"Aluno em exame.\".\n",
    "\n",
    "No caso do aluno estar em exame, leia um valor correspondente à nota do exame obtida pelo aluno. Imprima então a mensagem \"Nota do exame: \" acompanhada pela nota digitada. Recalcule a média (some a pontuação do exame com a média anteriormente calculada e divida por 2). e imprima a mensagem \"Aluno aprovado.\" (caso a média final seja 5.0 ou mais ) ou \"Aluno reprovado.\", (caso a média tenha ficado 4.9 ou menos). Para estes dois casos (aprovado ou reprovado após ter pego exame) apresente na última linha uma mensagem \"Media final: \" seguido da média final para esse aluno.\n",
    "\n",
    "Entrada\n",
    "A entrada contém quatro números de ponto flutuante correspendentes as notas dos alunos.\n",
    "\n",
    "Saída\n",
    "Todas as respostas devem ser apresentadas com uma casa decimal. As mensagens devem ser impressas conforme a descrição do problema. Não esqueça de imprimir o enter após o final de cada linha, caso contrário obterá \"Presentation Error\"."
   ]
  },
  {
   "cell_type": "code",
   "execution_count": 57,
   "metadata": {},
   "outputs": [
    {
     "name": "stdout",
     "output_type": "stream",
     "text": [
      "Media: 5.4\n",
      "Aluno em exame.\n",
      "Nota do exame: 6.4\n",
      "Aluno Aprovado.\n",
      "Media final: 5.9\n"
     ]
    }
   ],
   "source": [
    "#entrada\n",
    "N1 , N2, N3, N4 = map(float, input().split())\n",
    "media = (N1* 2 + N2* 3 + N3*4 + N4*1) / 10\n",
    "print(f\"Media: {media:.1f}\")\n",
    "if  media >= 7.0:\n",
    "    print(\"Aluno aprovado.\")\n",
    "elif media < 5.0:\n",
    "    print(\"Aluno reprovado.\")\n",
    "else:\n",
    "    print(\"Aluno em exame.\")\n",
    "    exame = float(input())\n",
    "    print(f\"Nota do exame: {exame:.1f}\")\n",
    "    mediafinal = (media + exame) / 2\n",
    "    if mediafinal >= 5.0:\n",
    "        print(\"Aluno aprovado.\")\n",
    "    else:\n",
    "        print(\"Aluno reprovado.\")\n",
    "    print(f\"Media final: {mediafinal:.1f}\")\n"
   ]
  }
 ],
 "metadata": {
  "kernelspec": {
   "display_name": "Python 3",
   "language": "python",
   "name": "python3"
  },
  "language_info": {
   "codemirror_mode": {
    "name": "ipython",
    "version": 3
   },
   "file_extension": ".py",
   "mimetype": "text/x-python",
   "name": "python",
   "nbconvert_exporter": "python",
   "pygments_lexer": "ipython3",
   "version": "3.11.3"
  },
  "orig_nbformat": 4
 },
 "nbformat": 4,
 "nbformat_minor": 2
}
