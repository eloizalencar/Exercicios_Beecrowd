{
 "cells": [
  {
   "cell_type": "markdown",
   "metadata": {},
   "source": [
    "Pedra-papel-tesoura-lagarto-Spock é uma expansão do clássico método de seleção em jogo de pedra-papel-tesoura. Atua sob o mesmo princípio básico, mas inclui outras duas armas adicionais: o lagarto (formado pela mão igual a uma boca de fantoche) e Spock (formada pela saudação dos vulcanos em Star Trek). Isso reduz as chances de uma rodada terminar em um empate. O jogo foi inventado por Sam Kass e Karen Bryla, como \"Rock Paper Scissors Lizard Spock\". As regras de vantagem são as seguintes:\n",
    "\n",
    "Tesoura corta papel\n",
    "Papel cobre pedra\n",
    "Pedra derruba lagarto\n",
    "Lagarto adormece Spock\n",
    "Spock derrete tesoura\n",
    "Tesoura prende lagarto\n",
    "Lagarto come papel\n",
    "Papel refuta Spock\n",
    "Spock vaporiza pedra\n",
    "Pedra quebra tesoura\n",
    "Um dia, dois amigos, Rajesh e Sheldon, decidiram apostar quem pagaria um almoço para o outro, com esta brincadeira. Sua missão será fazer um algoritmo que, baseado no que eles escolherem, informe quem irá ganhar ou se dará empate.\n",
    "\n",
    "Entrada\n",
    "Haverá diversos casos de teste. O primeiro número a ser lido será um inteiro C, representando a quantidade de casos de teste. Cada caso de teste tem duas palavras, representando a escolha de Rajesh e de Sheldon, respectivamente.\n",
    "\n",
    "Saída\n",
    "Para cada caso de teste, imprima quem venceu, ou se houve empate.\n",
    "\n"
   ]
  },
  {
   "cell_type": "code",
   "execution_count": 30,
   "metadata": {},
   "outputs": [
    {
     "name": "stdout",
     "output_type": "stream",
     "text": [
      "rajesh\n"
     ]
    }
   ],
   "source": [
    "c = int(input())\n",
    "lista = [ \"Pedra\", \"papel\",  \"tesoura\", \" lagarto\" ,' Spock']\n",
    "for _ in range(c):\n",
    "    j1 , j2 = input().split()\n",
    "    if j1 == j2 :\n",
    "        print('empate')\n",
    "    else:\n",
    "        #Tesoura corta papel\n",
    "        if (j1 == lista[1] and j2 == lista[2]):\n",
    "            print(\"sheldon\")\n",
    "        #Papel cobre pedra\n",
    "        elif (j1 == lista[0] and j2 == lista[1]):\n",
    "            print(\"sheldon\")\n",
    "        #Pedra derruba lagarto\n",
    "        elif j1 == lista[3] and j2 == lista[0]:\n",
    "            print(\"sheldon\")\n",
    "        #Lagarto adormece Spock\n",
    "        elif (j1 == lista[4] and j2 == lista[3]):\n",
    "            print(\"sheldon\")\n",
    "        #Tesoura prende lagarto\n",
    "        elif (j1 == lista[3] and j2 == lista[2]):\n",
    "            print(\"sheldon\")\n",
    "        #Lagarto come papel\n",
    "        elif (j1 == lista[1] and j2 == lista[3]):\n",
    "            print(\"sheldon\")\n",
    "        #Papel refuta Spock\n",
    "        elif (j1 == lista[4] and j2 == lista[1]):\n",
    "            print(\"sheldon\")\n",
    "        #Spock vaporiza pedra\n",
    "        elif (j1 == lista[0] and j2 == lista[4]):\n",
    "            print(\"sheldon\")\n",
    "        #Pedra quebra tesoura\n",
    "        elif (j1 == lista[2] and j2 == lista[0]):\n",
    "            print(\"sheldon\")\n",
    "             #Spock derrete tesoura\n",
    "        elif (j1 == lista[2] and j2 == lista[4]):\n",
    "            print(\"sheldon\")\n",
    "        else:\n",
    "           print(\"rajesh\")\n",
    "    "
   ]
  },
  {
   "cell_type": "code",
   "execution_count": 41,
   "metadata": {},
   "outputs": [
    {
     "name": "stdout",
     "output_type": "stream",
     "text": [
      "empate\n",
      "sheldon\n",
      "rajesh\n"
     ]
    }
   ],
   "source": [
    "n = int(input())  # Lê o número de casos de teste\n",
    "game = ['tesoura','pedra','spock','papel','lagarto']  # Define a lista de jogadas possíveis\n",
    "\n",
    "while(n > 0):  # Loop para cada caso de teste\n",
    "    n -= 1  # Decrementa o número de casos restantes\n",
    "    \n",
    "    s, r = input().split()  # Lê as escolhas de Rajesh (s) e Sheldon (r)\n",
    "    \n",
    "    while(game[2] != s):\n",
    "        game = [game[-1]] + game[:-1]  # Gira a lista de jogadas até que a jogada de Rajesh (s) esteja na posição 2 (Spock)\n",
    "    \n",
    "    s = 2 - game.index(r)  # Calcula a diferença de índices entre a jogada de Sheldon (r) e Spock (posição 2)\n",
    "    \n",
    "    if(s > 0):\n",
    "        print('rajesh')  # Se a diferença for positiva, significa que Rajesh ganhou\n",
    "    elif(s < 0):\n",
    "        print('sheldon')  # Se a diferença for negativa, significa que Sheldon ganhou\n",
    "    else:\n",
    "        print('empate')  # Se a diferença for zero, significa empate entre Rajesh e Sheldon\n"
   ]
  },
  {
   "cell_type": "code",
   "execution_count": null,
   "metadata": {},
   "outputs": [],
   "source": []
  }
 ],
 "metadata": {
  "kernelspec": {
   "display_name": "Python 3",
   "language": "python",
   "name": "python3"
  },
  "language_info": {
   "codemirror_mode": {
    "name": "ipython",
    "version": 3
   },
   "file_extension": ".py",
   "mimetype": "text/x-python",
   "name": "python",
   "nbconvert_exporter": "python",
   "pygments_lexer": "ipython3",
   "version": "3.11.3"
  },
  "orig_nbformat": 4
 },
 "nbformat": 4,
 "nbformat_minor": 2
}
