{
 "cells": [
  {
   "cell_type": "markdown",
   "metadata": {},
   "source": [
    "Leia um valor inteiro N. Apresente o quadrado de cada um dos valores pares, de 1 até N, inclusive N, se for o caso.\n",
    "\n",
    "Entrada\n",
    "A entrada contém um valor inteiro N (5 < N < 2000).\n",
    "\n",
    "Saída\n",
    "Imprima o quadrado de cada um dos valores pares, de 1 até N, conforme o exemplo abaixo.\n",
    "\n",
    "Tome cuidado! Algumas linguagens tem por padrão apresentarem como saída 1e+006 ao invés de 1000000 o que ocasionará resposta errada. Neste caso, configure a precisão adequadamente para que isso não ocorra."
   ]
  },
  {
   "cell_type": "code",
   "execution_count": 21,
   "metadata": {},
   "outputs": [
    {
     "name": "stdout",
     "output_type": "stream",
     "text": [
      "2^2 = 4\n",
      "4^2 = 16\n",
      "6^2 = 36\n"
     ]
    }
   ],
   "source": [
    "N = int(input())\n",
    "for N in range (1, N + 1):\n",
    "    if N % 2 == 0:\n",
    "        quadrado = N ** 2\n",
    "        print(f\"{N}^2 = {quadrado}\") "
   ]
  },
  {
   "cell_type": "code",
   "execution_count": null,
   "metadata": {},
   "outputs": [],
   "source": []
  }
 ],
 "metadata": {
  "kernelspec": {
   "display_name": "Python 3",
   "language": "python",
   "name": "python3"
  },
  "language_info": {
   "codemirror_mode": {
    "name": "ipython",
    "version": 3
   },
   "file_extension": ".py",
   "mimetype": "text/x-python",
   "name": "python",
   "nbconvert_exporter": "python",
   "pygments_lexer": "ipython3",
   "version": "3.11.3"
  },
  "orig_nbformat": 4
 },
 "nbformat": 4,
 "nbformat_minor": 2
}
