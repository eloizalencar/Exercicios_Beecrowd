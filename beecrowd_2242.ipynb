{
 "cells": [
  {
   "cell_type": "markdown",
   "metadata": {},
   "source": [
    "Em chats, é muito comum entre jovens e adolescentes utilizar sequências de letras, que parecem muitas vezes aleatórias, para representar risadas. Alguns exemplos comuns são:\n",
    "\n",
    "huaauhahhuahau\n",
    "hehehehe\n",
    "ahahahaha\n",
    "jaisjjkasjksjjskjakijs\n",
    "huehuehue\n",
    "\n",
    "Cláudia é uma jovem programadora que ficou intrigada pela sonoridade das “risadas digitais”. Algumas delas ela nem mesmo consegue pronunciar! Mas ela percebeu que algumas delas parecem transmitir melhor o sentimento da risada que outras. A primeira coisa que ela percebeu é que as consoantes não interferem no quanto as risadas digitais influenciam na transmissão do sentimento. A segunda coisa que ela percebeu é que as risadas digitais mais engra¸cadas são aquelas em que as sequências de vogais são iguais quando lidas na ordem natural (da esquerda para a direita) ou na ordem inversa (da direita para a esquerda), ignorando as consoantes. Por exemplo, “hahaha” e “huaauhahhuahau” estão entre as risadas mais engraçadas, enquanto “riajkjdhhihhjak” e “huehuehue” não estão entre as mais engraçadas.\n",
    "\n",
    "Cláudia está muito atarefada com a análise estatística das risadas digitais e pediu sua ajuda para escrever um programa que determine, para uma risada digital, se ela é das mais engraçadas ou não.\n",
    "\n",
    "Entrada\n",
    "A entrada é composta por uma linha, contendo uma sequência de no máximo 50 caracteres, formada apenas por letras minúsculas sem acentuação. As vogais são as letras ‘a’,‘e’,‘i’,‘o’,‘u’. A sequência contém pelo menos uma vogal.\n",
    "\n",
    "Saída\n",
    "Seu programa deve produzir uma linha contendo um caractere, “S” caso a risada seja das mais engra¸cadas, ou “N” caso contrário."
   ]
  },
  {
   "cell_type": "markdown",
   "metadata": {},
   "source": [
    "# remover as consoantes\n",
    "# checar se é anagrama\n",
    "# imprimir S ou N  a risada é legal"
   ]
  },
  {
   "cell_type": "code",
   "execution_count": 1,
   "metadata": {},
   "outputs": [
    {
     "name": "stdout",
     "output_type": "stream",
     "text": [
      "abcdefghijklmnopqrstuvwxyz\n"
     ]
    }
   ],
   "source": [
    "#imprimiu o alfabeto com letras minusculas\n",
    "import string\n",
    "print(string.ascii_lowercase)\n"
   ]
  },
  {
   "cell_type": "code",
   "execution_count": 9,
   "metadata": {},
   "outputs": [
    {
     "name": "stdout",
     "output_type": "stream",
     "text": [
      "S\n",
      "uaauauaau\n"
     ]
    }
   ],
   "source": [
    "# removi as consoantes do alfabeto\n",
    "#usei o replace para substituir as consoantes por nada\n",
    "consoantes = \"bcdfghjklmnpqrstvwxyz\"\n",
    "palavra = input()\n",
    "for letra in palavra:\n",
    "    if letra in consoantes:\n",
    "        palavra = palavra.replace(letra, \"\")\n",
    "if palavra == palavra[::-1]:\n",
    "    print(\"S\")\n",
    "else:\n",
    "    print(\"N\")\n",
    "print(palavra)\n",
    "\n"
   ]
  },
  {
   "cell_type": "code",
   "execution_count": 13,
   "metadata": {},
   "outputs": [
    {
     "name": "stdout",
     "output_type": "stream",
     "text": [
      "N\n"
     ]
    }
   ],
   "source": [
    "consoantes = \"bcdfghjklmnpqrstvwxyz\"\n",
    "palavra = input()\n",
    "for letra in palavra:\n",
    "    if letra in consoantes:\n",
    "        palavra = palavra.replace(letra, \"\")\n",
    "if palavra == palavra[::-1]:\n",
    "    print(\"S\")\n",
    "else:\n",
    "    print(\"N\")"
   ]
  },
  {
   "cell_type": "markdown",
   "metadata": {},
   "source": [
    "outra forma usando o operador in not\n",
    "construindo uma str = risada = \"\"\n",
    "adicionando letras"
   ]
  },
  {
   "cell_type": "code",
   "execution_count": 16,
   "metadata": {},
   "outputs": [
    {
     "name": "stdout",
     "output_type": "stream",
     "text": [
      "N\n"
     ]
    }
   ],
   "source": [
    "consoantes = \"bcdfghjklmnpqrstvwxyz\"\n",
    "palavra = input()\n",
    "risada = \"\"\n",
    "for letra in palavra:\n",
    "    if letra in consoantes:\n",
    "        risada += letra\n",
    "if risada == risada[::-1]:\n",
    "    print(\"S\")\n",
    "else:\n",
    "    print(\"N\")"
   ]
  }
 ],
 "metadata": {
  "kernelspec": {
   "display_name": "Python 3",
   "language": "python",
   "name": "python3"
  },
  "language_info": {
   "codemirror_mode": {
    "name": "ipython",
    "version": 3
   },
   "file_extension": ".py",
   "mimetype": "text/x-python",
   "name": "python",
   "nbconvert_exporter": "python",
   "pygments_lexer": "ipython3",
   "version": "3.11.3"
  },
  "orig_nbformat": 4
 },
 "nbformat": 4,
 "nbformat_minor": 2
}
