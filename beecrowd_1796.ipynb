{
 "cells": [
  {
   "cell_type": "markdown",
   "metadata": {},
   "source": [
    "Ultimamente a economia brasileira tornou-se o assunto de todos os jornais. A população brasileira têm diferentes opiniões sobre o cenário econômico atual. Sua tarefa é fazer uma pesquisa para saber se a maioria da população está ou não satisfeita com o cenário econômico atual.\n",
    "\n",
    "Entrada\n",
    "A primeira linha contém um inteiro Q (4 ≤ Q ≤ 233000) representando o número de pessoas que participaram da pesquisa. A segunda linha contém Q inteiros Vi (0 ≤Vi ≤ 1, 1 ≤ i ≤ Q), representando a opinião do i-ésimo cidadão Brasileiro sobre o cenário econômico atual. Sendo \"0\" os que consideram o cenário atual satisfatório e \"1\" os que consideram não satisfatório.\n",
    "\n",
    "Saída\n",
    "Seu programa deve imprimir \"Y\" caso a maioria da população esteja de acordo com o cenário econômico. Caso contrário imprima \"N\""
   ]
  },
  {
   "cell_type": "markdown",
   "metadata": {},
   "source": [
    "aqui usamos o  metodo count para contar quantos valores de 1 ou 0 se repetia na função\n"
   ]
  },
  {
   "cell_type": "code",
   "execution_count": 21,
   "metadata": {},
   "outputs": [
    {
     "name": "stdout",
     "output_type": "stream",
     "text": [
      "N\n"
     ]
    }
   ],
   "source": [
    "entrevistados = int(input())\n",
    "opiniao = list(map(int, input().split()))\n",
    "zero = opiniao.count(0)\n",
    "um = opiniao.count(1)\n",
    "if zero > um:\n",
    "    print(\"Y\")\n",
    "else:\n",
    "    print(\"N\")"
   ]
  },
  {
   "cell_type": "code",
   "execution_count": null,
   "metadata": {},
   "outputs": [],
   "source": []
  }
 ],
 "metadata": {
  "kernelspec": {
   "display_name": "Python 3",
   "language": "python",
   "name": "python3"
  },
  "language_info": {
   "codemirror_mode": {
    "name": "ipython",
    "version": 3
   },
   "file_extension": ".py",
   "mimetype": "text/x-python",
   "name": "python",
   "nbconvert_exporter": "python",
   "pygments_lexer": "ipython3",
   "version": "3.11.3"
  },
  "orig_nbformat": 4
 },
 "nbformat": 4,
 "nbformat_minor": 2
}
