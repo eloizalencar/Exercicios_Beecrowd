{
 "cells": [
  {
   "cell_type": "markdown",
   "metadata": {},
   "source": [
    "Você deve fazer um programa que apresente a sequencia conforme o exemplo abaixo.\n",
    "\n",
    "Entrada\n",
    "Não há nenhuma entrada neste problema.\n",
    "\n",
    "Saída\n",
    "Imprima a sequencia conforme exemplo abaixo."
   ]
  },
  {
   "cell_type": "markdown",
   "metadata": {},
   "source": [
    "I=1 J=7\n",
    "I=1 J=6\n",
    "I=1 J=5\n",
    "I=3 J=9\n",
    "I=3 J=8\n",
    "I=3 J=7\n",
    "...\n",
    "I=9 J=15\n",
    "I=9 J=14\n",
    "I=9 J=13"
   ]
  },
  {
   "cell_type": "code",
   "execution_count": 1,
   "metadata": {},
   "outputs": [
    {
     "name": "stdout",
     "output_type": "stream",
     "text": [
      "I=1 J=7\n",
      "I=1 J=6\n",
      "I=1 J=5\n",
      "I=3 J=9\n",
      "I=3 J=8\n",
      "I=3 J=7\n",
      "I=5 J=11\n",
      "I=5 J=10\n",
      "I=5 J=9\n",
      "I=7 J=13\n",
      "I=7 J=12\n",
      "I=7 J=11\n",
      "I=9 J=15\n",
      "I=9 J=14\n",
      "I=9 J=13\n"
     ]
    }
   ],
   "source": [
    "i = 1\n",
    "j = 7\n",
    "\n",
    "while i <= 9:\n",
    "    for _ in range(3):\n",
    "        print(f\"I={i} J={j}\")\n",
    "        j -= 1\n",
    "    i += 2\n",
    "    j += 5\n"
   ]
  },
  {
   "cell_type": "code",
   "execution_count": null,
   "metadata": {},
   "outputs": [],
   "source": [
    "\n",
    "for i in range(3):\n",
    "    I = 1\n",
    "    if i == I + 3:\n",
    "    for j in range(3):\n",
    "        J = \n",
    "\n",
    "\n",
    "\n",
    "        print(f\"I={} J={}\")"
   ]
  }
 ],
 "metadata": {
  "kernelspec": {
   "display_name": "Python 3",
   "language": "python",
   "name": "python3"
  },
  "language_info": {
   "codemirror_mode": {
    "name": "ipython",
    "version": 3
   },
   "file_extension": ".py",
   "mimetype": "text/x-python",
   "name": "python",
   "nbconvert_exporter": "python",
   "pygments_lexer": "ipython3",
   "version": "3.11.3"
  },
  "orig_nbformat": 4
 },
 "nbformat": 4,
 "nbformat_minor": 2
}
