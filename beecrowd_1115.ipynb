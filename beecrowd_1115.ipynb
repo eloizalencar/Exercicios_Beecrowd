{
 "cells": [
  {
   "cell_type": "markdown",
   "metadata": {},
   "source": [
    "Escreva um programa para ler as coordenadas (X,Y) de uma quantidade indeterminada de pontos no sistema cartesiano. Para cada ponto escrever o quadrante a que ele pertence. O algoritmo será encerrado quando pelo menos uma de duas coordenadas for NULA (nesta situação sem escrever mensagem alguma).\n",
    "\n",
    "Entrada\n",
    "A entrada contém vários casos de teste. Cada caso de teste contém 2 valores inteiros.\n",
    "\n",
    "Saída\n",
    "Para cada caso de teste mostre em qual quadrante do sistema cartesiano se encontra a coordenada lida, conforme o exemplo."
   ]
  },
  {
   "cell_type": "markdown",
   "metadata": {},
   "source": [
    "Eixo X e Eixo Y:\n",
    "Se o ponto estiver sobre o eixo x, significa que y = 0. Isso ocorre quando o ponto está na linha horizontal que cruza o eixo y.\n",
    "Se o ponto estiver sobre o eixo y, significa que x = 0. Isso ocorre quando o ponto está na linha vertical que cruza o eixo x.\n",
    "Quadrantes:\n",
    "Quadrante I: O ponto está localizado acima do eixo x (y > 0) e à direita do eixo y (x > 0).\n",
    "Quadrante II: O ponto está localizado acima do eixo x (y > 0) e à esquerda do eixo y (x < 0).\n",
    "Quadrante III: O ponto está localizado abaixo do eixo x (y < 0) e à esquerda do eixo y (x < 0).\n",
    "Quadrante IV: O ponto está localizado abaixo do eixo x (y < 0) e à direita do eixo y (x > 0).\n",
    "Aqui está um exemplo:\n",
    "Suponha que você tenha o ponto P com coordenadas (3, -4).\n",
    "Como y = -4, o ponto não está sobre o eixo x nem sobre o eixo y.\n",
    "Como x = 3 e y = -4, o ponto está localizado no Quadrante III.\n",
    "Lembre-se de que essas convenções são importantes em matemática e gráficos, pois ajudam a localizar e identificar posições de pontos em um plano cartesiano."
   ]
  },
  {
   "cell_type": "code",
   "execution_count": 3,
   "metadata": {},
   "outputs": [
    {
     "name": "stdout",
     "output_type": "stream",
     "text": [
      "primeiro\n",
      "quarto\n",
      "terceiro\n",
      "segundo\n"
     ]
    }
   ],
   "source": [
    "while True:\n",
    "    x, y = map(int, input().split())\n",
    "    if x == 0 or y == 0:\n",
    "        break\n",
    "    elif y > 0 and x > 0:\n",
    "        print(\"primeiro\")\n",
    "    elif y > 0 and x < 0:\n",
    "        print(\"segundo\")\n",
    "    elif  y < 0 and x < 0:\n",
    "        print(\"terceiro\")\n",
    "    else: \n",
    "        print(\"quarto\")"
   ]
  },
  {
   "cell_type": "code",
   "execution_count": null,
   "metadata": {},
   "outputs": [],
   "source": []
  }
 ],
 "metadata": {
  "kernelspec": {
   "display_name": "Python 3",
   "language": "python",
   "name": "python3"
  },
  "language_info": {
   "codemirror_mode": {
    "name": "ipython",
    "version": 3
   },
   "file_extension": ".py",
   "mimetype": "text/x-python",
   "name": "python",
   "nbconvert_exporter": "python",
   "pygments_lexer": "ipython3",
   "version": "3.11.3"
  },
  "orig_nbformat": 4
 },
 "nbformat": 4,
 "nbformat_minor": 2
}
