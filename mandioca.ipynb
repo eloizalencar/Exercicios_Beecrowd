{
 "cells": [
  {
   "cell_type": "markdown",
   "metadata": {},
   "source": [
    "Dona chica por sua vez sempre come 225 gramas de mandioca. Cansada de todo ano ter que calcular quanta mandioca preparar ela contactou você para escrever um programa que informe quanta mandioca deve ser preparada em gramas."
   ]
  },
  {
   "cell_type": "markdown",
   "metadata": {},
   "source": []
  },
  {
   "cell_type": "code",
   "execution_count": 9,
   "metadata": {},
   "outputs": [],
   "source": [
    "#mandioca\n",
    "curupira = int(input())\n",
    "boitata =  int(input())\n",
    "boto =  int(input())\n",
    "mapinguari = int(input())\n",
    "lara =  int(input())"
   ]
  },
  {
   "cell_type": "code",
   "execution_count": 10,
   "metadata": {},
   "outputs": [],
   "source": [
    "mandioca_curupira = 300\n",
    "mandioca_boitata = 1500\n",
    "mandioca_boto = 600\n",
    "mandioca_mapinguari = 1000\n",
    "mandioca_lara = 150\n",
    "\n",
    "#dona chica\n",
    "mandioca_donachica = 225"
   ]
  },
  {
   "cell_type": "code",
   "execution_count": 11,
   "metadata": {},
   "outputs": [
    {
     "name": "stdout",
     "output_type": "stream",
     "text": [
      "total = 7325\n"
     ]
    }
   ],
   "source": [
    "grama_total = (curupira * mandioca_curupira) + (boitata * mandioca_boitata) + (boto * mandioca_boto) + (mapinguari * mandioca_mapinguari) + (lara * mandioca_lara) + mandioca_donachica\n",
    "\n",
    "print(f\"total = {grama_total}\")"
   ]
  },
  {
   "cell_type": "code",
   "execution_count": null,
   "metadata": {},
   "outputs": [],
   "source": []
  }
 ],
 "metadata": {
  "kernelspec": {
   "display_name": "Python 3",
   "language": "python",
   "name": "python3"
  },
  "language_info": {
   "codemirror_mode": {
    "name": "ipython",
    "version": 3
   },
   "file_extension": ".py",
   "mimetype": "text/x-python",
   "name": "python",
   "nbconvert_exporter": "python",
   "pygments_lexer": "ipython3",
   "version": "3.11.3"
  },
  "orig_nbformat": 4
 },
 "nbformat": 4,
 "nbformat_minor": 2
}
