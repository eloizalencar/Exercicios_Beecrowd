{
 "cells": [
  {
   "cell_type": "code",
   "execution_count": 18,
   "metadata": {},
   "outputs": [
    {
     "name": "stdout",
     "output_type": "stream",
     "text": [
      "4 7 10 14 17 20 24 27 30\n"
     ]
    }
   ],
   "source": [
    "from math import ceil\n",
    "v, n = [int(x) for x in input().split()]\n",
    "t = v * n\n",
    "m = []\n",
    "for i in range(10, 100, 10): m.append(ceil(i*t/100))\n",
    "print(\"{} {} {} {} {} {} {} {} {}\".format(*m))"
   ]
  },
  {
   "cell_type": "code",
   "execution_count": null,
   "metadata": {},
   "outputs": [],
   "source": [
    "# Lê o número de voltas e o número de placas\n",
    "V, N = map(int, input().split())\n",
    "\n",
    "# Calcula o total de placas ao longo das V voltas\n",
    "total_placas = V * N\n",
    "\n",
    "# Inicializa uma lista para armazenar os números de placas necessários para cada porcentagem\n",
    "num_placas_porcentagem = []\n",
    "\n",
    "# Calcula os números de placas necessários para garantir 10%, 20%, ..., 90% da meta\n",
    "for i in range(10, 100, 10):\n",
    "    porcentagem = i / 100\n",
    "    num_placas = int(porcentagem * total_placas)\n",
    "    num_placas_porcentagem.append(num_placas)\n",
    "\n",
    "# Imprime os números de placas necessários para cada porcentagem\n",
    "print(*num_placas_porcentagem)\n"
   ]
  }
 ],
 "metadata": {
  "kernelspec": {
   "display_name": "Python 3",
   "language": "python",
   "name": "python3"
  },
  "language_info": {
   "codemirror_mode": {
    "name": "ipython",
    "version": 3
   },
   "file_extension": ".py",
   "mimetype": "text/x-python",
   "name": "python",
   "nbconvert_exporter": "python",
   "pygments_lexer": "ipython3",
   "version": "3.11.3"
  },
  "orig_nbformat": 4
 },
 "nbformat": 4,
 "nbformat_minor": 2
}
