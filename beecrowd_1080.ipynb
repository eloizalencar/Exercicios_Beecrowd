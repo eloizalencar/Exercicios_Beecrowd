{
 "cells": [
  {
   "cell_type": "markdown",
   "metadata": {},
   "source": [
    "Leia 100 valores inteiros. Apresente então o maior valor lido e a posição dentre os 100 valores lidos.\n",
    "\n",
    "Entrada\n",
    "O arquivo de entrada contém 100 números inteiros, positivos e distintos.\n",
    "\n",
    "Saída\n",
    "Apresente o maior valor lido e a posição de entrada, conforme exemplo abaixo."
   ]
  },
  {
   "cell_type": "markdown",
   "metadata": {},
   "source": [
    "Repetiu 100 vezes  e armazenou em uma lista:"
   ]
  },
  {
   "cell_type": "code",
   "execution_count": null,
   "metadata": {},
   "outputs": [],
   "source": [
    "#armazenou em uma lista vazia, os numeros adicionados\n",
    "lista = []\n",
    "\n",
    "for i in range (100):\n",
    "    numero = int(input())\n",
    "    lista.append(numero) #usou a função append\n",
    "maior = max(lista) #achou o maximo da lista \n",
    "posicao = lista.index(maior) #pegou o indice maior da lista\n",
    "print(maior)\n",
    "print(posicao)"
   ]
  },
  {
   "cell_type": "markdown",
   "metadata": {},
   "source": []
  },
  {
   "cell_type": "code",
   "execution_count": 1,
   "metadata": {},
   "outputs": [
    {
     "name": "stdout",
     "output_type": "stream",
     "text": [
      "4\n",
      "1\n",
      "5\n",
      "2\n",
      "8\n",
      "3\n"
     ]
    },
    {
     "ename": "ValueError",
     "evalue": "invalid literal for int() with base 10: ''",
     "output_type": "error",
     "traceback": [
      "\u001b[1;31m---------------------------------------------------------------------------\u001b[0m",
      "\u001b[1;31mValueError\u001b[0m                                Traceback (most recent call last)",
      "Cell \u001b[1;32mIn[1], line 5\u001b[0m\n\u001b[0;32m      2\u001b[0m posicao \u001b[39m=\u001b[39m\u001b[39m-\u001b[39m\u001b[39m14\u001b[39m\n\u001b[0;32m      4\u001b[0m \u001b[39mfor\u001b[39;00m i \u001b[39min\u001b[39;00m \u001b[39mrange\u001b[39m (\u001b[39m100\u001b[39m):\n\u001b[1;32m----> 5\u001b[0m     numero \u001b[39m=\u001b[39m \u001b[39mint\u001b[39;49m(\u001b[39minput\u001b[39;49m())\n\u001b[0;32m      6\u001b[0m     \u001b[39mif\u001b[39;00m numero \u001b[39m>\u001b[39m\u001b[39m=\u001b[39m maior:\n\u001b[0;32m      7\u001b[0m         maior \u001b[39m=\u001b[39m numero\n",
      "\u001b[1;31mValueError\u001b[0m: invalid literal for int() with base 10: ''"
     ]
    }
   ],
   "source": [
    "#Explicndo o codigo:\n",
    "maior = -1\n",
    "posicao = -1\n",
    "\n",
    "for i in range (100):\n",
    "    numero = int(input())\n",
    "    if numero >= maior:\n",
    "        maior = numero\n",
    "        posicao = i + 1\n",
    "print(maior)\n",
    "print(posicao)"
   ]
  },
  {
   "cell_type": "markdown",
   "metadata": {},
   "source": [
    "Usando com a função while:\n",
    "fazendo um loop quando você não sabe a quantidade de numero. \n",
    "Para que serve a função while:\n"
   ]
  },
  {
   "cell_type": "markdown",
   "metadata": {},
   "source": [
    "utilizamos um contador e um criterio de parada com while, o contado foi pegando até chegar a 100."
   ]
  },
  {
   "cell_type": "code",
   "execution_count": 3,
   "metadata": {},
   "outputs": [
    {
     "ename": "ValueError",
     "evalue": "invalid literal for int() with base 10: ''",
     "output_type": "error",
     "traceback": [
      "\u001b[1;31m---------------------------------------------------------------------------\u001b[0m",
      "\u001b[1;31mValueError\u001b[0m                                Traceback (most recent call last)",
      "Cell \u001b[1;32mIn[3], line 5\u001b[0m\n\u001b[0;32m      3\u001b[0m contador \u001b[39m=\u001b[39m  \u001b[39m1\u001b[39m\n\u001b[0;32m      4\u001b[0m \u001b[39mwhile\u001b[39;00m contador \u001b[39m<\u001b[39m \u001b[39m5\u001b[39m: \n\u001b[1;32m----> 5\u001b[0m     numero \u001b[39m=\u001b[39m \u001b[39mint\u001b[39;49m(\u001b[39minput\u001b[39;49m())\n\u001b[0;32m      6\u001b[0m     \u001b[39mif\u001b[39;00m numero \u001b[39m>\u001b[39m\u001b[39m=\u001b[39m maior:\n\u001b[0;32m      7\u001b[0m         maior \u001b[39m=\u001b[39m numero\n",
      "\u001b[1;31mValueError\u001b[0m: invalid literal for int() with base 10: ''"
     ]
    }
   ],
   "source": [
    "maior = -1\n",
    "posicao = -1\n",
    "contador =  1\n",
    "while contador < 100: \n",
    "    numero = int(input())\n",
    "    if numero >= maior:\n",
    "        maior = numero\n",
    "        posicao = contador\n",
    "    contador += 1\n",
    "print(maior)\n",
    "print(posicao) \n"
   ]
  },
  {
   "cell_type": "markdown",
   "metadata": {},
   "source": [
    "Usando o EOF, ele foi lendo as linhas do arquivo até acaba."
   ]
  },
  {
   "cell_type": "code",
   "execution_count": null,
   "metadata": {},
   "outputs": [],
   "source": [
    "maior = -1\n",
    "posicao = -1\n",
    "contador =  1\n",
    "while True: \n",
    "    try:\n",
    "        numero = int(input())\n",
    "        if numero >= maior:\n",
    "            maior = numero\n",
    "            posicao = contador\n",
    "        contador += 1\n",
    "    except EOFError:\n",
    "        breakpoint\n",
    "    \n",
    "print(maior)\n",
    "print(posicao) \n"
   ]
  }
 ],
 "metadata": {
  "kernelspec": {
   "display_name": "Python 3",
   "language": "python",
   "name": "python3"
  },
  "language_info": {
   "codemirror_mode": {
    "name": "ipython",
    "version": 3
   },
   "file_extension": ".py",
   "mimetype": "text/x-python",
   "name": "python",
   "nbconvert_exporter": "python",
   "pygments_lexer": "ipython3",
   "version": "3.11.3"
  },
  "orig_nbformat": 4
 },
 "nbformat": 4,
 "nbformat_minor": 2
}
