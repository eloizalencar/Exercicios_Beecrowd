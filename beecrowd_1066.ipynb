{
 "cells": [
  {
   "cell_type": "markdown",
   "metadata": {},
   "source": [
    "Leia 5 valores Inteiros. A seguir mostre quantos valores digitados foram pares, quantos valores digitados foram ímpares, quantos valores digitados foram positivos e quantos valores digitados foram negativos.\n",
    "\n",
    "Entrada\n",
    "O arquivo de entrada contém 5 valores inteiros quaisquer.\n",
    "\n",
    "Saída\n",
    "Imprima a mensagem conforme o exemplo fornecido, uma mensagem por linha, não esquecendo o final de linha após cada uma."
   ]
  },
  {
   "cell_type": "code",
   "execution_count": 3,
   "metadata": {},
   "outputs": [
    {
     "name": "stdout",
     "output_type": "stream",
     "text": [
      "3 valor(es) par(es)\n",
      "2 valor(es) impar(es)\n",
      "1 valor(es) positivo(s)\n",
      "3 valor(es) negativo(s)\n"
     ]
    }
   ],
   "source": [
    "# Entrada\n",
    "pares = 0\n",
    "impares = 0\n",
    "positivos = 0 \n",
    "negativos = 0\n",
    "\n",
    "a = int(input())\n",
    "if a % 2 == 0 :\n",
    "    pares += 1\n",
    "else:\n",
    "    impares =+ 1\n",
    " \n",
    "if a > 0:\n",
    "    positivos += 1\n",
    "elif a < 0:\n",
    "    negativos += 1\n",
    "\n",
    "b = int(input())\n",
    "if b % 2 == 0 :\n",
    "    pares += 1\n",
    "else:\n",
    "    impares += 1\n",
    " \n",
    "if b > 0:\n",
    "    positivos += 1\n",
    "elif b < 0:\n",
    "    negativos += 1\n",
    "\n",
    "c = int(input())\n",
    "if c % 2 == 0 :\n",
    "    pares += 1\n",
    "else:\n",
    "    impares += 1\n",
    " \n",
    "if c > 0:\n",
    "    positivos += 1\n",
    "elif c < 0:\n",
    "    negativos += 1\n",
    "    \n",
    "d = int(input())\n",
    "if d % 2 == 0 :\n",
    "    pares += 1\n",
    "else:\n",
    "    impares += 1\n",
    " \n",
    "if d > 0:\n",
    "    positivos += 1\n",
    "elif d < 0:\n",
    "    negativos += 1\n",
    "\n",
    "e = int(input())\n",
    "if e % 2 == 0 :\n",
    "    pares += 1\n",
    "else:\n",
    "    impares += 1\n",
    " \n",
    "if e > 0:\n",
    "    positivos += 1\n",
    "elif e < 0:\n",
    "    negativos += 1\n",
    "\n",
    "print(\"{} valor(es) par(es)\".format(pares))\n",
    "print(\"{} valor(es) impar(es)\".format(impares))\n",
    "print(\"{} valor(es) positivo(s)\".format(positivos))\n",
    "print('{} valor(es) negativo(s)'.format(negativos))"
   ]
  },
  {
   "cell_type": "code",
   "execution_count": null,
   "metadata": {},
   "outputs": [],
   "source": []
  }
 ],
 "metadata": {
  "kernelspec": {
   "display_name": "Python 3",
   "language": "python",
   "name": "python3"
  },
  "language_info": {
   "codemirror_mode": {
    "name": "ipython",
    "version": 3
   },
   "file_extension": ".py",
   "mimetype": "text/x-python",
   "name": "python",
   "nbconvert_exporter": "python",
   "pygments_lexer": "ipython3",
   "version": "3.11.3"
  },
  "orig_nbformat": 4
 },
 "nbformat": 4,
 "nbformat_minor": 2
}
