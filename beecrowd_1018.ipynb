{
 "cells": [
  {
   "cell_type": "markdown",
   "metadata": {},
   "source": [
    "Leia um valor inteiro. A seguir, calcule o menor número de notas possíveis (cédulas) no qual o valor pode ser decomposto. As notas consideradas são de 100, 50, 20, 10, 5, 2 e 1. A seguir mostre o valor lido e a relação de notas necessárias."
   ]
  },
  {
   "cell_type": "code",
   "execution_count": 1,
   "metadata": {},
   "outputs": [],
   "source": [
    "N = int(input())"
   ]
  },
  {
   "cell_type": "code",
   "execution_count": 4,
   "metadata": {},
   "outputs": [],
   "source": [
    "nota100 = N // 100\n",
    "resto100 = N % 100\n",
    "nota50 = resto100 // 50\n",
    "resto50 = resto100 % 50\n",
    "nota20 = resto50 // 20\n",
    "resto20 = resto50 % 20\n",
    "nota10 = resto20 // 10\n",
    "resto10 = resto20 % 10\n",
    "nota5 = resto10 // 5\n",
    "resto5 = resto10 % 5\n",
    "nota2 = resto5 // 2\n",
    "resto2 = resto5 % 2\n",
    "nota1 = resto2 // 1\n",
    "resto1 = resto2 % 1"
   ]
  },
  {
   "cell_type": "code",
   "execution_count": 5,
   "metadata": {},
   "outputs": [
    {
     "name": "stdout",
     "output_type": "stream",
     "text": [
      "576\n",
      "5 nota(s) de R$ 100,00\n",
      "1 nota(s) de R$ 50,00\n",
      "1 nota(s) de R$ 20,00\n",
      "0 nota(s) de R$ 10,00\n",
      "1 nota(s) de R$ 5,00\n",
      "0 nota(s) de R$ 2,00\n",
      "1 nota(s) de R$ 1,00\n"
     ]
    }
   ],
   "source": [
    "print(f'{N}')\n",
    "print(f\"{nota100} nota(s) de R$ 100,00\")\n",
    "print(f\"{nota50} nota(s) de R$ 50,00\")\n",
    "print(f\"{nota20} nota(s) de R$ 20,00\")\n",
    "print(f\"{nota10} nota(s) de R$ 10,00\")\n",
    "print(f\"{nota5} nota(s) de R$ 5,00\")\n",
    "print(f\"{nota2} nota(s) de R$ 2,00\")\n",
    "print(f\"{nota1} nota(s) de R$ 1,00\")"
   ]
  },
  {
   "cell_type": "code",
   "execution_count": null,
   "metadata": {},
   "outputs": [],
   "source": []
  }
 ],
 "metadata": {
  "kernelspec": {
   "display_name": "Python 3",
   "language": "python",
   "name": "python3"
  },
  "language_info": {
   "codemirror_mode": {
    "name": "ipython",
    "version": 3
   },
   "file_extension": ".py",
   "mimetype": "text/x-python",
   "name": "python",
   "nbconvert_exporter": "python",
   "pygments_lexer": "ipython3",
   "version": "3.11.3"
  },
  "orig_nbformat": 4
 },
 "nbformat": 4,
 "nbformat_minor": 2
}
