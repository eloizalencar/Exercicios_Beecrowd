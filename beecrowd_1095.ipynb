{
 "cells": [
  {
   "cell_type": "markdown",
   "metadata": {},
   "source": [
    "Você deve fazer um programa que apresente a sequencia conforme o exemplo abaixo.\n",
    "\n",
    "Entrada\n",
    "Não há nenhuma entrada neste problema.\n",
    "\n",
    "Saída\n",
    "Imprima a sequencia conforme exemplo abaixo\n",
    "I=1 J=60\n",
    "I=4 J=55\n",
    "I=7 J=50\n",
    "...\n",
    "I=? J=0"
   ]
  },
  {
   "cell_type": "code",
   "execution_count": null,
   "metadata": {},
   "outputs": [],
   "source": [
    "i = 1\n",
    "j = 60\n",
    "\n",
    "while i <= 17:\n",
    "    for _ in range(3):\n",
    "       print(f\"I={i} J={j}\") \n",
    "       j -= 5\n",
    "       i -= 5\n",
    "    i += 3\n",
    "    j += 5"
   ]
  }
 ],
 "metadata": {
  "kernelspec": {
   "display_name": "Python 3",
   "language": "python",
   "name": "python3"
  },
  "language_info": {
   "codemirror_mode": {
    "name": "ipython",
    "version": 3
   },
   "file_extension": ".py",
   "mimetype": "text/x-python",
   "name": "python",
   "nbconvert_exporter": "python",
   "pygments_lexer": "ipython3",
   "version": "3.11.3"
  },
  "orig_nbformat": 4
 },
 "nbformat": 4,
 "nbformat_minor": 2
}
