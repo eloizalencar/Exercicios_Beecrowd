{
 "cells": [
  {
   "cell_type": "markdown",
   "metadata": {},
   "source": [
    "Leia 3 valores de ponto flutuante e efetue o cálculo das raízes da equação de Bhaskara. Se não for possível calcular as raízes, mostre a mensagem correspondente “Impossivel calcular”, caso haja uma divisão por 0 ou raiz de numero negativo.\n",
    "\n",
    "Formula de baskhara : - b +- raiz de (b^2 - 4 X ac) // 2 X A \n"
   ]
  },
  {
   "cell_type": "markdown",
   "metadata": {},
   "source": [
    "A raiz não pode ser negativa, logo ela tem que ser >= 0 \n",
    "E como ela não pode ser divisivio por zero logo A != de 0.\n",
    "Passa as condiçoes no if e resolve o calculo em baixo e depois faça o print."
   ]
  },
  {
   "cell_type": "code",
   "execution_count": 32,
   "metadata": {},
   "outputs": [
    {
     "name": "stdout",
     "output_type": "stream",
     "text": [
      "Impossivel Calcular\n"
     ]
    }
   ],
   "source": [
    "\n",
    "# entrada\n",
    "A , B, C = map(float, input().split())\n",
    "\n",
    "\n",
    "#Calculo \n",
    "delta = B ** 2 - 4 * A * C\n",
    "\n",
    "\n",
    "if delta >= 0 and A != 0:\n",
    "    X = (-B + ((delta)** 0.5)) / (2 * A)\n",
    "    Y = (-B - ((delta)** 0.5)) / (2 * A)\n",
    "    print(f'R1 = {X:.05f}\\nR2 = {Y:.05f}')\n",
    "\n",
    "else: \n",
    "    print(\"Impossivel calcular\")\n"
   ]
  },
  {
   "cell_type": "code",
   "execution_count": null,
   "metadata": {},
   "outputs": [],
   "source": []
  }
 ],
 "metadata": {
  "kernelspec": {
   "display_name": "Python 3",
   "language": "python",
   "name": "python3"
  },
  "language_info": {
   "codemirror_mode": {
    "name": "ipython",
    "version": 3
   },
   "file_extension": ".py",
   "mimetype": "text/x-python",
   "name": "python",
   "nbconvert_exporter": "python",
   "pygments_lexer": "ipython3",
   "version": "3.11.3"
  },
  "orig_nbformat": 4
 },
 "nbformat": 4,
 "nbformat_minor": 2
}
