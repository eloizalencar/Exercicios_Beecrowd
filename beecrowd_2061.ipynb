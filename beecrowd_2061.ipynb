{
 "cells": [
  {
   "cell_type": "markdown",
   "metadata": {},
   "source": [
    "Péricles é um rapaz que tem um interesse único por história. Utilizando seu atualizadíssimo navegador de internet rapoza cromada, conheceu até os sitios mais remotos e obscuros atrás de informações sobre a mitologia grega.\n",
    "\n",
    "Por ironia do destino, o navegador de Péricles acabou sendo infectado por um malware com uma caracterísica peculiar: cada vez que Péricles fechava uma aba no seu navegador, outras duas abas apareciam! No entanto, quando Péricles clicou sem querer em uma das propagandas de uma aba, percebeu que, por um erro do navegador, a aba foi encerrada (sem abrir outras abas). Por causa do malware, todas as abas possuem irritantes propagandas.\n",
    "\n",
    "Sua tarefa é descobrir com quantas abas que o navegador de Péricles ficou, sabendo o número inicial de abas e a sequência de ações de Péricles. As ações podem ser fechou (quando Péricles fechou uma aba) ou clicou (quando Péricles clicou em uma propaganda).\n",
    "\n",
    "Entrada\n",
    "A entrada é iniciada por uma linha contendo dois números inteiros positivos, N e M (0 < N, M < 500), representando o número inicial de abas e o número de ações de Péricles. Cada linha subsequente contém uma ação (fechou ou clicou). Naturalmente, o número de abas é sempre maior ou igual a zero.\n",
    "\n",
    "Saída\n",
    "A saída deve ser uma linha contendo o número final de abas."
   ]
  },
  {
   "cell_type": "markdown",
   "metadata": {},
   "source": [
    "logica desse está nessa parte \"cada vez que Péricles fechava uma aba no seu navegador, outras duas abas apareciam\"\n",
    "Mas pq? Pq ele tinha uma pagina aberta, conseguia fechar ele, porem abria mais duas. Então nesse caso só era acrescentado uma pagina a mais, pois ele ja tinha uma aberta e que fechou, porem continuava a mesma quantidade só que com acrescimo de uma a mais.\n"
   ]
  },
  {
   "cell_type": "code",
   "execution_count": 21,
   "metadata": {},
   "outputs": [
    {
     "name": "stdout",
     "output_type": "stream",
     "text": [
      "2\n"
     ]
    }
   ],
   "source": [
    "n , m = map(int, input().split())\n",
    "acao = [\"clicou\" , \"fechou\"]\n",
    "for _ in range(m):\n",
    "    a = input()\n",
    "    if a == acao[1]:\n",
    "        n += 1\n",
    "    elif a == acao[0]:\n",
    "        n -= 1\n",
    "total = n\n",
    "print(total)\n",
    "    \n"
   ]
  },
  {
   "cell_type": "code",
   "execution_count": null,
   "metadata": {},
   "outputs": [],
   "source": []
  }
 ],
 "metadata": {
  "kernelspec": {
   "display_name": "Python 3",
   "language": "python",
   "name": "python3"
  },
  "language_info": {
   "codemirror_mode": {
    "name": "ipython",
    "version": 3
   },
   "file_extension": ".py",
   "mimetype": "text/x-python",
   "name": "python",
   "nbconvert_exporter": "python",
   "pygments_lexer": "ipython3",
   "version": "3.11.3"
  },
  "orig_nbformat": 4
 },
 "nbformat": 4,
 "nbformat_minor": 2
}
