{
 "cells": [
  {
   "cell_type": "markdown",
   "metadata": {},
   "source": [
    "Faça um programa que leia três valores e apresente o maior dos três valores lidos seguido da mensagem “eh o maior”\n",
    "formula = (a+b+abs(a-b))/2\n"
   ]
  },
  {
   "cell_type": "code",
   "execution_count": 1,
   "metadata": {},
   "outputs": [
    {
     "name": "stdout",
     "output_type": "stream",
     "text": [
      "['7', '14', '106']\n"
     ]
    }
   ],
   "source": [
    "#Demostração\n",
    "#str tem varios metados ( como usar, é so colocar o ponto)\n",
    "#Vai didvir os str em pedaços com espaços e virgulas\n",
    "entrada = input()\n",
    "entrada = entrada.split() #list\n",
    "print(entrada)\n"
   ]
  },
  {
   "cell_type": "markdown",
   "metadata": {},
   "source": [
    "Para conseguir transformar os valores da sua lista para serem inteiros basta passar o o map.\n",
    "entrada = map(int, entrada)\n",
    "\n",
    "depois tem que transformar o map em uma lista, para conseguir visualizar os numeros inteiros\n",
    "entrada = list(entrada)"
   ]
  },
  {
   "cell_type": "markdown",
   "metadata": {},
   "source": [
    "#Resolvendo o problema\n",
    "entrada = input()\n",
    "entrada = entrada.split()\n",
    "entrada = list(map(int, entrada))\n",
    "\n",
    "print(entrada)\n"
   ]
  },
  {
   "cell_type": "code",
   "execution_count": 5,
   "metadata": {},
   "outputs": [
    {
     "name": "stdout",
     "output_type": "stream",
     "text": [
      "106 eh o maior\n"
     ]
    }
   ],
   "source": [
    "#Resolvendo o problema\n",
    "A, B, C = list(map(int, input().split()))\n",
    "\n",
    "maiorAB = (A + B + abs(A - B)) // 2\n",
    "maiorABC = (maiorAB + C + abs(maiorAB - C)) // 2\n",
    "print(f'{maiorABC} eh o maior')\n"
   ]
  },
  {
   "cell_type": "code",
   "execution_count": null,
   "metadata": {},
   "outputs": [],
   "source": []
  }
 ],
 "metadata": {
  "kernelspec": {
   "display_name": "env",
   "language": "python",
   "name": "python3"
  },
  "language_info": {
   "codemirror_mode": {
    "name": "ipython",
    "version": 3
   },
   "file_extension": ".py",
   "mimetype": "text/x-python",
   "name": "python",
   "nbconvert_exporter": "python",
   "pygments_lexer": "ipython3",
   "version": "3.11.3"
  },
  "orig_nbformat": 4
 },
 "nbformat": 4,
 "nbformat_minor": 2
}
