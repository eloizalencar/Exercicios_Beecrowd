{
 "cells": [
  {
   "cell_type": "markdown",
   "metadata": {},
   "source": [
    "O microblog Twitter é conhecido por limitar as postagens em 140 caracteres. Conferir se um texto vai caber em um tuíte é sua tarefa.\n",
    "\n",
    "Entrada\n",
    "A entrada é uma linha de texto T (1 ≤ |T| ≤ 500).\n",
    "\n",
    "Saída\n",
    "A saída é dada em uma única linha. Ela deve ser \"TWEET\" (sem as aspas) se a linha de texto T tem até 140 caracteres. Se T tem mais de 140 caracteres, a saída deve ser \"MUTE\"."
   ]
  },
  {
   "cell_type": "markdown",
   "metadata": {},
   "source": [
    "A funçao len nos permite a contar quantos carcterers tem em um texto."
   ]
  },
  {
   "cell_type": "code",
   "execution_count": 4,
   "metadata": {},
   "outputs": [
    {
     "name": "stdout",
     "output_type": "stream",
     "text": [
      "MUTE\n"
     ]
    }
   ],
   "source": [
    "t = input()\n",
    "t = len(t)\n",
    "if t <= 140:\n",
    "    print(\"TWEET\")\n",
    "else:\n",
    "    print(\"MUTE\")\n"
   ]
  },
  {
   "cell_type": "code",
   "execution_count": null,
   "metadata": {},
   "outputs": [],
   "source": []
  }
 ],
 "metadata": {
  "kernelspec": {
   "display_name": "Python 3",
   "language": "python",
   "name": "python3"
  },
  "language_info": {
   "codemirror_mode": {
    "name": "ipython",
    "version": 3
   },
   "file_extension": ".py",
   "mimetype": "text/x-python",
   "name": "python",
   "nbconvert_exporter": "python",
   "pygments_lexer": "ipython3",
   "version": "3.11.3"
  },
  "orig_nbformat": 4
 },
 "nbformat": 4,
 "nbformat_minor": 2
}
