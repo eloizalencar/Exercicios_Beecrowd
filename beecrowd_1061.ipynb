{
 "cells": [
  {
   "cell_type": "markdown",
   "metadata": {},
   "source": [
    "Pedrinho está organizando um evento em sua Universidade. O evento deverá ser no mês de Abril, iniciando e terminando dentro do mês. O problema é que Pedrinho quer calcular o tempo que o evento vai durar, uma vez que ele sabe quando inicia e quando termina o evento.\n",
    "\n",
    "Sabendo que o evento pode durar de poucos segundos a vários dias, você deverá ajudar Pedrinho a calcular a duração deste evento.\n",
    "\n",
    "Entrada\n",
    "Como entrada, na primeira linha vai haver a descrição “Dia”, seguido de um espaço e o dia do mês no qual o evento vai começar. Na linha seguinte, será informado o momento no qual o evento vai iniciar, no formato hh : mm : ss. Na terceira e quarta linha de entrada haverá outra informação no mesmo formato das duas primeiras linhas, indicando o término do evento.\n",
    "\n",
    "Saída\n",
    "Na saída, deve ser apresentada a duração do evento, no seguinte formato:\n",
    "\n",
    "W dia(s)\n",
    "X hora(s)\n",
    "Y minuto(s)\n",
    "Z segundo(s)\n",
    "\n",
    "Obs: Considere que o evento do caso de teste para o problema tem duração mínima de 1 minuto."
   ]
  },
  {
   "cell_type": "code",
   "execution_count": 9,
   "metadata": {},
   "outputs": [
    {
     "name": "stdout",
     "output_type": "stream",
     "text": [
      "3 dia(s)\n",
      "22 hora(s)\n",
      "1 minuto(s)\n",
      "0 segundo(s)\n"
     ]
    }
   ],
   "source": [
    "di = int(input().split()[1])\n",
    "hi, mi, si = map(int, input().split(\":\"))\n",
    "df = int(input().split()[1])\n",
    "hf, mf, sf = map(int, input().split(\":\"))\n",
    "\n",
    "ti = si + mi * 60 + hi *3600 + di*24*3600\n",
    "tf = sf + mf * 60 + hf *3600 + df *24 * 3600\n",
    "\n",
    "ds = tf - ti\n",
    "\n",
    "dia = ds // 86400\n",
    "ds %= 86400\n",
    "horas = ds // 3600\n",
    "ds %= 3600\n",
    "minutos = ds // 60\n",
    "segundos = ds % 60\n",
    "\n",
    " \n",
    "print(f\"{dia} dia(s)\")  \n",
    "print(f\"{horas} hora(s)\")\n",
    "print(f\"{minutos} minuto(s)\")\n",
    "print(f\"{segundos} segundo(s)\")\n",
    "\n",
    "\n"
   ]
  },
  {
   "cell_type": "code",
   "execution_count": null,
   "metadata": {},
   "outputs": [],
   "source": [
    "print(f\"{} dia(s)\")  \n",
    "print(f\"{} hora(s)\")\n",
    "print(f\"{} minuto(s)\")\n",
    "print(f\"{} segundo(s)\")"
   ]
  }
 ],
 "metadata": {
  "kernelspec": {
   "display_name": "Python 3",
   "language": "python",
   "name": "python3"
  },
  "language_info": {
   "codemirror_mode": {
    "name": "ipython",
    "version": 3
   },
   "file_extension": ".py",
   "mimetype": "text/x-python",
   "name": "python",
   "nbconvert_exporter": "python",
   "pygments_lexer": "ipython3",
   "version": "3.11.3"
  },
  "orig_nbformat": 4
 },
 "nbformat": 4,
 "nbformat_minor": 2
}
