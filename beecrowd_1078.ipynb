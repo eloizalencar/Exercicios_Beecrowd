{
 "cells": [
  {
   "cell_type": "markdown",
   "metadata": {},
   "source": [
    "Leia 1 valor inteiro N (2 < N < 1000). A seguir, mostre a tabuada de N:      \n",
    "1 x N = N      2 x N = 2N        ...       10 x N = 10N\n",
    "\n",
    "Entrada\n",
    "A entrada contém um valor inteiro N (2 < N < 1000).\n",
    "\n",
    "Saída\n",
    "Imprima a tabuada de N, conforme o exemplo fornecido."
   ]
  },
  {
   "cell_type": "code",
   "execution_count": 10,
   "metadata": {},
   "outputs": [
    {
     "name": "stdout",
     "output_type": "stream",
     "text": [
      "1 x 178 = 178\n",
      "2 x 178 = 356\n",
      "3 x 178 = 534\n",
      "4 x 178 = 712\n",
      "5 x 178 = 890\n",
      "6 x 178 = 1068\n",
      "7 x 178 = 1246\n",
      "8 x 178 = 1424\n",
      "9 x 178 = 1602\n",
      "10 x 178 = 1780\n"
     ]
    }
   ],
   "source": [
    "\n",
    "N = int(input())\n",
    "contador = 0\n",
    "for contador in range(10):\n",
    "    contador +=1\n",
    "    n = N * contador\n",
    "    print(f\"{contador} x {N} = {n}\")"
   ]
  },
  {
   "cell_type": "code",
   "execution_count": null,
   "metadata": {},
   "outputs": [],
   "source": []
  }
 ],
 "metadata": {
  "kernelspec": {
   "display_name": "Python 3",
   "language": "python",
   "name": "python3"
  },
  "language_info": {
   "codemirror_mode": {
    "name": "ipython",
    "version": 3
   },
   "file_extension": ".py",
   "mimetype": "text/x-python",
   "name": "python",
   "nbconvert_exporter": "python",
   "pygments_lexer": "ipython3",
   "version": "3.11.3"
  },
  "orig_nbformat": 4
 },
 "nbformat": 4,
 "nbformat_minor": 2
}
