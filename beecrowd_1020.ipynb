{
 "cells": [
  {
   "cell_type": "markdown",
   "metadata": {},
   "source": [
    "Leia um valor inteiro correspondente à idade de uma pessoa em dias e informe-a em anos, meses e dias\n",
    "\n",
    "Obs.: apenas para facilitar o cálculo, considere todo ano com 365 dias e todo mês com 30 dias. Nos casos de teste nunca haverá uma situação que permite 12 meses e alguns dias, como 360, 363 ou 364. Este é apenas um exercício com objetivo de testar raciocínio matemático simples."
   ]
  },
  {
   "cell_type": "code",
   "execution_count": 25,
   "metadata": {},
   "outputs": [
    {
     "name": "stdout",
     "output_type": "stream",
     "text": [
      "2 ano(s)\n",
      "2 mes(es)\n",
      "10 dia(s)\n"
     ]
    }
   ],
   "source": [
    "#Declarando a variavel\n",
    "N = int(input())\n",
    "\n",
    "#Calculo\n",
    "ano = N // 365\n",
    "restoano = N % 365\n",
    "mes = restoano // 30\n",
    "restomes = restoano % 30\n",
    "dias = restomes % 30\n",
    "\n",
    "#Resultado\n",
    "print(f'{ano} ano(s)')\n",
    "print(f\"{mes} mes(es)\")\n",
    "print(f\"{dias} dia(s)\")\n"
   ]
  },
  {
   "cell_type": "code",
   "execution_count": null,
   "metadata": {},
   "outputs": [],
   "source": []
  }
 ],
 "metadata": {
  "kernelspec": {
   "display_name": "Python 3",
   "language": "python",
   "name": "python3"
  },
  "language_info": {
   "codemirror_mode": {
    "name": "ipython",
    "version": 3
   },
   "file_extension": ".py",
   "mimetype": "text/x-python",
   "name": "python",
   "nbconvert_exporter": "python",
   "pygments_lexer": "ipython3",
   "version": "3.11.3"
  },
  "orig_nbformat": 4
 },
 "nbformat": 4,
 "nbformat_minor": 2
}
