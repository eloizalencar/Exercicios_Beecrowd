{
 "cells": [
  {
   "cell_type": "markdown",
   "metadata": {},
   "source": [
    "Leia um valor inteiro entre 1 e 12, inclusive. Correspondente a este valor, deve ser apresentado como resposta o mês do ano por extenso, em inglês, com a primeira letra maiúscula."
   ]
  },
  {
   "cell_type": "code",
   "execution_count": 4,
   "metadata": {},
   "outputs": [
    {
     "name": "stdout",
     "output_type": "stream",
     "text": [
      "September\n"
     ]
    }
   ],
   "source": [
    "mes = int(input())\n",
    "mes = str(int(mes))\n",
    "\n",
    "meses = {\n",
    "    (\"1\") : \"January\",\n",
    "    (\"2\") : \"February\",\n",
    "    (\"3\") : \"March\",\n",
    "    (\"4\") : \"April\",\n",
    "    (\"5\") : \"May\",\n",
    "    (\"6\") : \"June\",\n",
    "    (\"7\") : \"July\",\n",
    "    (\"8\") : \"August\",\n",
    "    (\"9\") : \"September\",\n",
    "    (\"10\") : \"October\",\n",
    "    (\"11\") : \"November\",\n",
    "    (\"12\") : \"December\",\n",
    "\n",
    "}\n",
    "\n",
    "mesesano = meses.get((mes), \"Mes não localizado\")\n",
    "print(mesesano)"
   ]
  },
  {
   "cell_type": "code",
   "execution_count": null,
   "metadata": {},
   "outputs": [],
   "source": []
  }
 ],
 "metadata": {
  "kernelspec": {
   "display_name": "Python 3",
   "language": "python",
   "name": "python3"
  },
  "language_info": {
   "codemirror_mode": {
    "name": "ipython",
    "version": 3
   },
   "file_extension": ".py",
   "mimetype": "text/x-python",
   "name": "python",
   "nbconvert_exporter": "python",
   "pygments_lexer": "ipython3",
   "version": "3.11.3"
  },
  "orig_nbformat": 4
 },
 "nbformat": 4,
 "nbformat_minor": 2
}
