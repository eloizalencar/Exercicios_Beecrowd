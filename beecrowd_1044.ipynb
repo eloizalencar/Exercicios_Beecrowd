{
 "cells": [
  {
   "cell_type": "markdown",
   "metadata": {},
   "source": [
    "Leia 2 valores inteiros (A e B). Após, o programa deve mostrar uma mensagem \"Sao Multiplos\" ou \"Nao sao Multiplos\", indicando se os valores lidos são múltiplos entre si."
   ]
  },
  {
   "cell_type": "markdown",
   "metadata": {},
   "source": [
    "A é um multiplo de B se e somente se A mod B = 0\n",
    "Onde \\mod é o operador de módulo (resto da divisão). Isso significa que, se a divisão de A por B resultar em um resto igual a zero, então :\n",
    "A é um múltiplo de B."
   ]
  },
  {
   "cell_type": "markdown",
   "metadata": {},
   "source": [
    "O operador or é um operador lógico em Python (e em muitas outras linguagens de programação) que é usado para combinar condições. Ele retorna True se pelo menos uma das condições for verdadeira e False se ambas as condições forem falsas."
   ]
  },
  {
   "cell_type": "code",
   "execution_count": 9,
   "metadata": {},
   "outputs": [
    {
     "name": "stdout",
     "output_type": "stream",
     "text": [
      "Nao sao Multiplos\n"
     ]
    }
   ],
   "source": [
    "A, B = map(int, input().split())\n",
    "\n",
    "if A % B == 0 or B % A == 0:\n",
    "    print(\"Sao Multiplos\")\n",
    "\n",
    "else:\n",
    "    print(\"Nao sao Multiplos\")\n"
   ]
  },
  {
   "cell_type": "code",
   "execution_count": null,
   "metadata": {},
   "outputs": [],
   "source": []
  }
 ],
 "metadata": {
  "kernelspec": {
   "display_name": "Python 3",
   "language": "python",
   "name": "python3"
  },
  "language_info": {
   "codemirror_mode": {
    "name": "ipython",
    "version": 3
   },
   "file_extension": ".py",
   "mimetype": "text/x-python",
   "name": "python",
   "nbconvert_exporter": "python",
   "pygments_lexer": "ipython3",
   "version": "3.11.3"
  },
  "orig_nbformat": 4
 },
 "nbformat": 4,
 "nbformat_minor": 2
}
