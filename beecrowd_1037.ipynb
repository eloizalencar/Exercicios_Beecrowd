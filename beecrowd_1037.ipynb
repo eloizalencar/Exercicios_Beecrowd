{
 "cells": [
  {
   "cell_type": "markdown",
   "metadata": {},
   "source": [
    "Você deve fazer um programa que leia um valor qualquer e apresente uma mensagem dizendo em qual dos seguintes intervalos ([0,25], (25,50], (50,75], (75,100]) este valor se encontra. Obviamente se o valor não estiver em nenhum destes intervalos, deverá ser impressa a mensagem “Fora de intervalo”.\n",
    "\n",
    "O símbolo ( representa \"maior que\". Por exemplo:\n",
    "[0,25]  indica valores entre 0 e 25.0000, inclusive eles.\n",
    "(25,50] indica valores maiores que 25 Ex: 25.00001 até o valor 50.0000000\n",
    "\n",
    "Entrada\n",
    "O arquivo de entrada contém um número com ponto flutuante qualquer.\n",
    "\n",
    "Saída\n",
    "A saída deve ser uma mensagem conforme exemplo abaixo."
   ]
  },
  {
   "cell_type": "code",
   "execution_count": 17,
   "metadata": {},
   "outputs": [
    {
     "name": "stdout",
     "output_type": "stream",
     "text": [
      "Intervalo (25,50]\n"
     ]
    }
   ],
   "source": [
    "#Entrada\n",
    "N = float(input())\n",
    "\n",
    "if 0 <= N <= 25:\n",
    "    print(f\"Intervalo [0,25]\")\n",
    "\n",
    "elif 25 <= N <= 50:\n",
    "    print(f\"Intervalo (25,50]\")\n",
    "\n",
    "elif  50 <= N <= 75:\n",
    "    print(f\"Intervalo (50,75]\")\n",
    "\n",
    "elif  75 <= N <= 100:\n",
    "    print(f\"Intervalo (75,100]\")\n",
    "\n",
    "else:\n",
    "    print(\"Fora de intervalo\")\n",
    "\n"
   ]
  },
  {
   "cell_type": "code",
   "execution_count": null,
   "metadata": {},
   "outputs": [],
   "source": []
  }
 ],
 "metadata": {
  "kernelspec": {
   "display_name": "Python 3",
   "language": "python",
   "name": "python3"
  },
  "language_info": {
   "codemirror_mode": {
    "name": "ipython",
    "version": 3
   },
   "file_extension": ".py",
   "mimetype": "text/x-python",
   "name": "python",
   "nbconvert_exporter": "python",
   "pygments_lexer": "ipython3",
   "version": "3.11.3"
  },
  "orig_nbformat": 4
 },
 "nbformat": 4,
 "nbformat_minor": 2
}
