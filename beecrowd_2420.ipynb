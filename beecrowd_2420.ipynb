{
 "cells": [
  {
   "cell_type": "markdown",
   "metadata": {},
   "source": [
    "Tombólia do Oeste e Tombólia do Leste travaram uma guerra durante 50 anos. O motivo da guerra era o tamanho do território de cada país. Pelo bem da população dos dois países, os governos resolveram fazer um tratado para finalizar a guerra. O tratado consiste em fazer um divisão justa, e certamente contínua, do território. Eles resolveram pedir sua ajuda para calcular o ponto de divisão do território. Depois de tantos anos de guerra, os países não podem lhe pagar uma viagem para ver previamente o território que será dividido. Ao invés disso, eles prepararam uma lista a1,a2,…,aN de inteiros que indicam o tamanho de cada seção do território. A seção a1 é vizinha da seção a2 que por sua vez é vizinha da seção a3; e assim por diante. Os governos querem uma divisão em uma seção k de tal forma que a1 + a2 + … + ak = ak+1 + ak+2 + … + aN.\n",
    "\n",
    "Sua tarefa é dada uma lista de inteiros positivos a1, a2,..., aN , determinar a seção k tal que soma dos comprimentos das seções a1 até ak é igual a soma dos comprimentos das seções ak+1 até aN.\n",
    "\n",
    "Entrada\n",
    "A primeira linha da entrada contém um inteiro N (1 ≤ N ≤ 105) indicando o número de seções do território. A segunda linha da entrada contém N inteiros a1, a2,..., aN (1 ≤ ai ≤ 100, para i = 1, 2, . . . , N.)separados por um único espaço que indicam os comprimentos das seções.\n",
    "\n",
    "Saída\n",
    "Seu programa deve imprimir uma única linha contendo um inteiro que indica a seção do território onde acontecerá a divisão.(É garantido que sempre existe uma divisão que satisfaz as condições dos países)."
   ]
  },
  {
   "cell_type": "code",
   "execution_count": 4,
   "metadata": {},
   "outputs": [
    {
     "name": "stdout",
     "output_type": "stream",
     "text": [
      "4\n"
     ]
    }
   ],
   "source": [
    "N = int(input())  # Leitura do número de seções do território\n",
    "comprimentos = list(map(int, input().split()))  # Leitura dos comprimentos das seções\n",
    "\n",
    "soma_total = sum(comprimentos)  # Calcula a soma total dos comprimentos das seções\n",
    "soma_atual = 0  # Inicializa a soma atual\n",
    "\n",
    "for k in range(N - 1):\n",
    "    soma_atual += comprimentos[k]  # Adiciona o comprimento da seção atual à soma atual\n",
    "    if soma_atual == soma_total - soma_atual:  # Verifica se a divisão é válida\n",
    "        print(k + 1)  # Imprime a seção onde acontecerá a divisão\n",
    "        break\n"
   ]
  },
  {
   "cell_type": "code",
   "execution_count": null,
   "metadata": {},
   "outputs": [],
   "source": []
  }
 ],
 "metadata": {
  "kernelspec": {
   "display_name": "Python 3",
   "language": "python",
   "name": "python3"
  },
  "language_info": {
   "codemirror_mode": {
    "name": "ipython",
    "version": 3
   },
   "file_extension": ".py",
   "mimetype": "text/x-python",
   "name": "python",
   "nbconvert_exporter": "python",
   "pygments_lexer": "ipython3",
   "version": "3.11.3"
  },
  "orig_nbformat": 4
 },
 "nbformat": 4,
 "nbformat_minor": 2
}
