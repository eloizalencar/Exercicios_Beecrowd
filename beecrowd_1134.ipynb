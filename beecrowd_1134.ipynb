{
 "cells": [
  {
   "cell_type": "markdown",
   "metadata": {},
   "source": [
    "Um Posto de combustíveis deseja determinar qual de seus produtos tem a preferência de seus clientes. Escreva um algoritmo para ler o tipo de combustível abastecido (codificado da seguinte forma: 1.Álcool 2.Gasolina 3.Diesel 4.Fim). Caso o usuário informe um código inválido (fora da faixa de 1 a 4) deve ser solicitado um novo código (até que seja válido). O programa será encerrado quando o código informado for o número 4.\n",
    "\n",
    "Entrada\n",
    "A entrada contém apenas valores inteiros e positivos.\n",
    "\n",
    "Saída\n",
    "Deve ser escrito a mensagem: \"MUITO OBRIGADO\" e a quantidade de clientes que abasteceram cada tipo de combustível, conforme exemplo."
   ]
  },
  {
   "cell_type": "markdown",
   "metadata": {},
   "source": [
    "Como que trata com criterio de parada!!"
   ]
  },
  {
   "cell_type": "code",
   "execution_count": 4,
   "metadata": {},
   "outputs": [
    {
     "name": "stdout",
     "output_type": "stream",
     "text": [
      "MUITO OBRIGADO\n",
      "Alcool: 1\n",
      "Gasolina: 2\n",
      "Diesel: 0\n"
     ]
    }
   ],
   "source": [
    "numero = int(input())\n",
    "alcool = 0\n",
    "gasolina =0\n",
    "disel = 0\n",
    "while numero != 4:\n",
    "    if numero == 1:\n",
    "        alcool += 1\n",
    "    elif numero == 2:\n",
    "        gasolina += 1\n",
    "    elif numero == 3:\n",
    "        disel += 1\n",
    "    numero = int(input())\n",
    "\n",
    "print(f\"MUITO OBRIGADO\")\n",
    "print(f\"Alcool: {alcool}\")\n",
    "print(f\"Gasolina: {gasolina}\")\n",
    "print(f\"Diesel: {disel}\")"
   ]
  },
  {
   "cell_type": "code",
   "execution_count": null,
   "metadata": {},
   "outputs": [],
   "source": []
  }
 ],
 "metadata": {
  "kernelspec": {
   "display_name": "Python 3",
   "language": "python",
   "name": "python3"
  },
  "language_info": {
   "codemirror_mode": {
    "name": "ipython",
    "version": 3
   },
   "file_extension": ".py",
   "mimetype": "text/x-python",
   "name": "python",
   "nbconvert_exporter": "python",
   "pygments_lexer": "ipython3",
   "version": "3.11.3"
  },
  "orig_nbformat": 4
 },
 "nbformat": 4,
 "nbformat_minor": 2
}
