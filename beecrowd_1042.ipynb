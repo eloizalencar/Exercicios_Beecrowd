{
 "cells": [
  {
   "cell_type": "markdown",
   "metadata": {},
   "source": [
    "Leia 3 valores inteiros e ordene-os em ordem crescente. No final, mostre os valores em ordem crescente, uma linha em branco e em seguida, os valores na sequência como foram lidos."
   ]
  },
  {
   "cell_type": "markdown",
   "metadata": {},
   "source": [
    "como colocar em ordem crescente:\n",
    "sorted([A, B, C])\n",
    "como colocar em ordem decrescente:\n",
    "A, B, C = sorted([A, B, C], reverse=True)"
   ]
  },
  {
   "cell_type": "markdown",
   "metadata": {},
   "source": [
    "Como fazer quebra de texto em variavel :\n",
    "print(f\"{A2}\\n{B2}\\n{C2}\")\n",
    "\n",
    "linha vazia:\n",
    "print()"
   ]
  },
  {
   "cell_type": "code",
   "execution_count": 7,
   "metadata": {},
   "outputs": [
    {
     "name": "stdout",
     "output_type": "stream",
     "text": [
      "-14\n",
      "7\n",
      "21\n",
      "\n",
      "-14\n",
      "21\n",
      "7\n"
     ]
    }
   ],
   "source": [
    "A, B, C = map(int, input().split())\n",
    "A2, B2, C2 = sorted([A, B, C])\n",
    "print(f\"{A2}\\n{B2}\\n{C2}\")\n",
    "print()\n",
    "print(f\"{A}\\n{B}\\n{C}\")"
   ]
  },
  {
   "cell_type": "code",
   "execution_count": null,
   "metadata": {},
   "outputs": [],
   "source": []
  }
 ],
 "metadata": {
  "kernelspec": {
   "display_name": "Python 3",
   "language": "python",
   "name": "python3"
  },
  "language_info": {
   "codemirror_mode": {
    "name": "ipython",
    "version": 3
   },
   "file_extension": ".py",
   "mimetype": "text/x-python",
   "name": "python",
   "nbconvert_exporter": "python",
   "pygments_lexer": "ipython3",
   "version": "3.11.3"
  },
  "orig_nbformat": 4
 },
 "nbformat": 4,
 "nbformat_minor": 2
}
