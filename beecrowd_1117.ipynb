{
 "cells": [
  {
   "cell_type": "markdown",
   "metadata": {},
   "source": [
    "Faça um programa que leia as notas referentes às duas avaliações de um aluno. Calcule e imprima a média semestral. Faça com que o algoritmo só aceite notas válidas (uma nota válida deve pertencer ao intervalo [0,10]). Cada nota deve ser validada separadamente.\n",
    "\n",
    "Entrada\n",
    "A entrada contém vários valores reais, positivos ou negativos. O programa deve ser encerrado quando forem lidas duas notas válidas.\n",
    "\n",
    "Saída\n",
    "Se uma nota inválida  for lida, deve ser impressa a mensagem \"nota invalida\".\n",
    "Quando duas notas válidas forem lidas, deve ser impressa a mensagem \"media = \" seguido do valor do cálculo. O valor deve ser apresentado com duas casas após o ponto decimal."
   ]
  },
  {
   "cell_type": "code",
   "execution_count": 13,
   "metadata": {},
   "outputs": [],
   "source": [
    "import math\n",
    "import numpy"
   ]
  },
  {
   "cell_type": "code",
   "execution_count": 15,
   "metadata": {},
   "outputs": [
    {
     "name": "stdout",
     "output_type": "stream",
     "text": [
      "nota invalida\n",
      "nota invalida\n",
      "6.75\n"
     ]
    }
   ],
   "source": [
    "import numpy\n",
    "lista= []\n",
    "nv = 0\n",
    "while True:\n",
    "    n = float(input())\n",
    "    if 0 <= n <= 10:\n",
    "        lista.append(n)\n",
    "        nv += 1\n",
    "        if nv == 2:\n",
    "            media = numpy.mean(lista)\n",
    "            print(f\"media = {media:.3}\")\n",
    "            break\n",
    "    else:\n",
    "        print(\"nota invalida\")"
   ]
  },
  {
   "cell_type": "code",
   "execution_count": null,
   "metadata": {},
   "outputs": [],
   "source": [
    "nota_valida = 0\n",
    "x=0\n",
    "media=0\n",
    "while nota_valida!=2:\n",
    "    x = float(input())\n",
    "    if x>=0 and x<=10:\n",
    "        media+=x/2\n",
    "        nota_valida+=1\n",
    "    else:\n",
    "        print('nota invalida')\n",
    "\n",
    "\n",
    "print('media = %.2f'%(media))"
   ]
  }
 ],
 "metadata": {
  "kernelspec": {
   "display_name": "Python 3",
   "language": "python",
   "name": "python3"
  },
  "language_info": {
   "codemirror_mode": {
    "name": "ipython",
    "version": 3
   },
   "file_extension": ".py",
   "mimetype": "text/x-python",
   "name": "python",
   "nbconvert_exporter": "python",
   "pygments_lexer": "ipython3",
   "version": "3.11.3"
  },
  "orig_nbformat": 4
 },
 "nbformat": 4,
 "nbformat_minor": 2
}
