{
 "cells": [
  {
   "cell_type": "markdown",
   "metadata": {},
   "source": [
    "Leia 3 valores de ponto flutuante A, B e C e ordene-os em ordem decrescente, de modo que o lado A representa o maior dos 3 lados. A seguir, determine o tipo de triângulo que estes três lados formam, com base nos seguintes casos, sempre escrevendo uma mensagem adequada:\n",
    "se A ≥ B+C, apresente a mensagem: NAO FORMA TRIANGULO\n",
    "se A2 = B2 + C2, apresente a mensagem: TRIANGULO RETANGULO\n",
    "se A2 > B2 + C2, apresente a mensagem: TRIANGULO OBTUSANGULO\n",
    "se A2 < B2 + C2, apresente a mensagem: TRIANGULO ACUTANGULO\n",
    "se os três lados forem iguais, apresente a mensagem: TRIANGULO EQUILATERO\n",
    "se apenas dois dos lados forem iguais, apresente a mensagem: TRIANGULO ISOSCELES\n"
   ]
  },
  {
   "cell_type": "markdown",
   "metadata": {},
   "source": []
  },
  {
   "cell_type": "markdown",
   "metadata": {},
   "source": [
    "como colocar em ordem crescente:\n",
    "sorted([A, B, C])\n",
    "como colocar em ordem decrescente:\n",
    "A, B, C = sorted([A, B, C], reverse=True)"
   ]
  },
  {
   "cell_type": "markdown",
   "metadata": {},
   "source": [
    "A gente usa o if varias vezes, pois precisamos que o codigo analise todas as condições.\n",
    "Se tivesse passado o elif, ele teria analisado qual fosse verdadeira e descartaria as outras possibilidades."
   ]
  },
  {
   "cell_type": "code",
   "execution_count": 9,
   "metadata": {},
   "outputs": [
    {
     "name": "stdout",
     "output_type": "stream",
     "text": [
      "NAO FORMA TRIANGULO\n"
     ]
    }
   ],
   "source": [
    "# entrada\n",
    "A, B , C = map(float, input().split())\n",
    "A, B, C = sorted([A, B, C], reverse=True)\n",
    "\n",
    "#Calculando\n",
    "if A >= B+C :\n",
    "    print(\"NAO FORMA TRIANGULO\")\n",
    "else:\n",
    "    if A**2 == (B**2 + C**2):\n",
    "        print(\"TRIANGULO RETANGULO\")\n",
    "    if A**2 > (B**2 + C**2):\n",
    "        print(\"TRIANGULO OBTUSANGULO\")\n",
    "    if A**2 < (B**2 + C**2):\n",
    "        print(\"TRIANGULO ACUTANGULO\")\n",
    "    if (A == B) and (B == C):\n",
    "        print(\"TRIANGULO EQUILATERO\")\n",
    "    if (A == B) and (B != C):\n",
    "        print(\"TRIANGULO ISOSCELES\")\n",
    "    if (A == C) and (B != C):\n",
    "        print(\"TRIANGULO ISOSCELES\")\n",
    "    if (B == C) and (B != A):\n",
    "        print(\"TRIANGULO ISOSCELES\")\n",
    "    "
   ]
  }
 ],
 "metadata": {
  "kernelspec": {
   "display_name": "Python 3",
   "language": "python",
   "name": "python3"
  },
  "language_info": {
   "codemirror_mode": {
    "name": "ipython",
    "version": 3
   },
   "file_extension": ".py",
   "mimetype": "text/x-python",
   "name": "python",
   "nbconvert_exporter": "python",
   "pygments_lexer": "ipython3",
   "version": "3.11.3"
  },
  "orig_nbformat": 4
 },
 "nbformat": 4,
 "nbformat_minor": 2
}
