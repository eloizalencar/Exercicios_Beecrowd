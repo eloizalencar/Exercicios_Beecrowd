{
 "cells": [
  {
   "cell_type": "markdown",
   "metadata": {},
   "source": [
    "Leia um valor de ponto flutuante com duas casas decimais. Este valor representa um valor monetário. A seguir, calcule o menor número de notas e moedas possíveis no qual o valor pode ser decomposto. As notas consideradas são de 100, 50, 20, 10, 5, 2. As moedas possíveis são de 1, 0.50, 0.25, 0.10, 0.05 e 0.01. A seguir mostre a relação de notas necessárias.\n",
    "\n"
   ]
  },
  {
   "cell_type": "code",
   "execution_count": 92,
   "metadata": {},
   "outputs": [
    {
     "name": "stdout",
     "output_type": "stream",
     "text": [
      "57673\n"
     ]
    }
   ],
   "source": [
    "N = float(input()) * 100\n",
    "N = int(float(N))\n",
    "print(N)\n"
   ]
  },
  {
   "cell_type": "code",
   "execution_count": 93,
   "metadata": {},
   "outputs": [],
   "source": [
    "nota100 = N // 10000\n",
    "resto100 = N % 10000\n",
    "nota50 = resto100 // 5000\n",
    "resto50 = resto100 % 5000\n",
    "nota20 = resto50 // 2000\n",
    "resto20 = resto50 % 2000\n",
    "nota10 = resto20 // 1000\n",
    "resto10 = resto20 % 1000\n",
    "nota5 = resto10 // 500\n",
    "resto5 = resto10 % 500\n",
    "nota2 = resto5 // 200\n",
    "resto2 = resto5 % 200\n",
    "\n",
    "#moedas\n",
    "moeda1 = resto2 // 100\n",
    "restom1 = resto2 % 100\n",
    "moeda05 = restom1 // 50\n",
    "restom05 = restom1 % 50\n",
    "moeda025 = restom05 // 25\n",
    "resto025 = restom05 % 25\n",
    "moeda010 = resto025 // 10\n",
    "restom010 = resto025 % 10\n",
    "moeda005 = restom010 // 5\n",
    "resto005 = restom010 % 5\n",
    "moeda001 = resto005 // 1\n",
    "resto001 = resto005 % 1"
   ]
  },
  {
   "cell_type": "code",
   "execution_count": 94,
   "metadata": {},
   "outputs": [
    {
     "name": "stdout",
     "output_type": "stream",
     "text": [
      "NOTAS:\n",
      "5 nota(s) de R$ 100.00\n",
      "1 nota(s) de R$ 50.00\n",
      "1 nota(s) de R$ 20.00\n",
      "0 nota(s) de R$ 10.00\n",
      "1 nota(s) de R$ 5.00\n",
      "0 nota(s) de R$ 2.00\n",
      "MOEDAS:\n",
      "1 moeda(s) de R$ 1.00\n",
      "1 moeda(s) de R$ 0.50\n",
      "0 moeda(s) de R$ 0.25\n",
      "2 moeda(s) de R$ 0.10\n",
      "0 moeda(s) de R$ 0.05\n",
      "3 moeda(s) de R$ 0.01\n"
     ]
    }
   ],
   "source": [
    "# resultado\n",
    "print(\"NOTAS:\")\n",
    "print(f\"{nota100:.0f} nota(s) de R$ 100.00\")\n",
    "print(f\"{nota50:.0f} nota(s) de R$ 50.00\")\n",
    "print(f\"{nota20:.0f} nota(s) de R$ 20.00\")\n",
    "print(f\"{nota10:.0f} nota(s) de R$ 10.00\")\n",
    "print(f\"{nota5:.0f} nota(s) de R$ 5.00\")\n",
    "print(f\"{nota2:.0f} nota(s) de R$ 2.00\")\n",
    "print(\"MOEDAS:\")\n",
    "print(f\"{moeda1:.0f} moeda(s) de R$ 1.00\")\n",
    "print(f\"{moeda05:.0f} moeda(s) de R$ 0.50\")\n",
    "print(f\"{moeda025:.0f} moeda(s) de R$ 0.25\")\n",
    "print(f\"{moeda010:.0f} moeda(s) de R$ 0.10\")\n",
    "print(f\"{moeda005:.0f} moeda(s) de R$ 0.05\")\n",
    "print(f\"{moeda001:.0f} moeda(s) de R$ 0.01\")"
   ]
  },
  {
   "cell_type": "code",
   "execution_count": null,
   "metadata": {},
   "outputs": [],
   "source": []
  },
  {
   "cell_type": "code",
   "execution_count": null,
   "metadata": {},
   "outputs": [],
   "source": []
  }
 ],
 "metadata": {
  "kernelspec": {
   "display_name": "Python 3",
   "language": "python",
   "name": "python3"
  },
  "language_info": {
   "codemirror_mode": {
    "name": "ipython",
    "version": 3
   },
   "file_extension": ".py",
   "mimetype": "text/x-python",
   "name": "python",
   "nbconvert_exporter": "python",
   "pygments_lexer": "ipython3",
   "version": "3.11.3"
  },
  "orig_nbformat": 4
 },
 "nbformat": 4,
 "nbformat_minor": 2
}
