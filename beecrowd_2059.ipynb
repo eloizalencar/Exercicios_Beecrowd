{
 "cells": [
  {
   "cell_type": "markdown",
   "metadata": {},
   "source": [
    "Com essas adições no jogo se o jogador 1 roubar e o jogador 2 acusar o roubo então o jogador 2 ganha, caso o jogador 2 não acuse o roubo e o jogador 1 roubar então o jogador 1 ganha, caso o jogador 2 acuse o roubo, mas o jogador 1 não tiver roubado então o jogador 1 ganha, se o jogador 1 não roubar e o jogador 2 não acusar o roubo o jogo segue como descrito anteriormente."
   ]
  },
  {
   "cell_type": "markdown",
   "metadata": {},
   "source": [
    "P = 1 é par se 0  é impar\n",
    "ji, j2 = numero escolhido\n",
    "r = 1 então j1 roubou se 0 j1 não roubou.\n",
    "a = 1 j2 acusou de roubo se 0 então não acusou."
   ]
  },
  {
   "cell_type": "markdown",
   "metadata": {},
   "source": [
    "if L % 2 != 0  and C % 2 != 0:\n",
    "    print(\"1\")\n",
    "elif L % 2 != 0 and C % 2 == 0:  \n",
    "    print(\"0\")\n",
    "elif L % 2 == 0 and C % 2 == 0:\n",
    "    print(\"1\")\n",
    "elif L % 2 == 0 and C % 2 != 0:\n",
    "    print(\"0\")\n",
    "else:\n",
    "    L == C"
   ]
  },
  {
   "cell_type": "code",
   "execution_count": null,
   "metadata": {},
   "outputs": [],
   "source": [
    "p, j1, j2, r, a = map(int, input().split())\n",
    "p, r, a = str(map(int(p,r,a)))\n",
    "p, r, a = {\n",
    "    (\"0 , 1\") : (\"impar\" , \"par\"),\n",
    "    (\"0, 1\") : (\"não roubou, roubo\"),\n",
    "    (\"0, 1\") : (\"não acusou, acusou\")\n",
    "}\n",
    "if \n",
    "\n",
    "print(\"Jogador {} ganha!\".format())"
   ]
  },
  {
   "cell_type": "code",
   "execution_count": null,
   "metadata": {},
   "outputs": [],
   "source": []
  }
 ],
 "metadata": {
  "kernelspec": {
   "display_name": "Python 3",
   "language": "python",
   "name": "python3"
  },
  "language_info": {
   "codemirror_mode": {
    "name": "ipython",
    "version": 3
   },
   "file_extension": ".py",
   "mimetype": "text/x-python",
   "name": "python",
   "nbconvert_exporter": "python",
   "pygments_lexer": "ipython3",
   "version": "3.11.3"
  },
  "orig_nbformat": 4
 },
 "nbformat": 4,
 "nbformat_minor": 2
}
