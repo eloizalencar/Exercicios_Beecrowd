{
 "cells": [
  {
   "cell_type": "code",
   "execution_count": 1,
   "metadata": {},
   "outputs": [],
   "source": [
    "#A Formula do raio é a area = n. raio*2\n",
    "#Em primeiro momento a gente declara nossa variavel, chamos de raio\n",
    "# type mostra o tipo da variavel\n",
    "raio = input () #str(tipo da variavel)"
   ]
  },
  {
   "cell_type": "code",
   "execution_count": 2,
   "metadata": {},
   "outputs": [],
   "source": [
    "#convertando o raio para o tipo float\n",
    "raio = float(raio)\n",
    "pi = 3.14159 #float(tipo da variavel)"
   ]
  },
  {
   "cell_type": "code",
   "execution_count": 3,
   "metadata": {},
   "outputs": [
    {
     "name": "stdout",
     "output_type": "stream",
     "text": [
      "<class 'float'>\n"
     ]
    }
   ],
   "source": [
    "#mostrando o tipo do pi\n",
    "print (type(pi))\n",
    "# declarar a variavel potencia\n",
    "potencia = 2 #int(tipo da variavel)\n"
   ]
  },
  {
   "cell_type": "code",
   "execution_count": 4,
   "metadata": {},
   "outputs": [],
   "source": [
    "\n",
    "#elevado a potencia = **\n",
    "area= pi * raio ** potencia\n"
   ]
  },
  {
   "cell_type": "code",
   "execution_count": 6,
   "metadata": {},
   "outputs": [
    {
     "name": "stdout",
     "output_type": "stream",
     "text": [
      "A=12.5664\n"
     ]
    }
   ],
   "source": [
    "#Mostrando o resultado: Colocar aspas pois vai imprimir uma str\n",
    "#colocar a area tem que colocar a variavel dentro das chaves\n",
    "print(f'A={area:.4f}')\n",
    "\n",
    "#para arredondar \":.4f\""
   ]
  },
  {
   "cell_type": "code",
   "execution_count": 7,
   "metadata": {},
   "outputs": [
    {
     "name": "stdout",
     "output_type": "stream",
     "text": [
      "A =12.5664\n"
     ]
    }
   ],
   "source": [
    "#Outro exemplo de quando precisa formatar a area\n",
    "print(\"A ={:.4f}\".format(area))"
   ]
  },
  {
   "cell_type": "code",
   "execution_count": null,
   "metadata": {},
   "outputs": [],
   "source": []
  }
 ],
 "metadata": {
  "kernelspec": {
   "display_name": "env",
   "language": "python",
   "name": "python3"
  },
  "language_info": {
   "codemirror_mode": {
    "name": "ipython",
    "version": 3
   },
   "file_extension": ".py",
   "mimetype": "text/x-python",
   "name": "python",
   "nbconvert_exporter": "python",
   "pygments_lexer": "ipython3",
   "version": "3.11.3"
  },
  "orig_nbformat": 4
 },
 "nbformat": 4,
 "nbformat_minor": 2
}
