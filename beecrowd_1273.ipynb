{
 "cells": [
  {
   "cell_type": "markdown",
   "metadata": {},
   "source": [
    "Nós temos algumas palavras e queremos justificá-las à direita, ou seja, alinhar todas elas à direita. Crie um programa que, após ler várias palavras, reimprima estas palavras com suas linhas justificadas à direita.\n",
    "\n",
    "Entrada\n",
    "A entrada contém diversos casos de testes. A primeira linha de cada caso de teste conterá um inteiro N (1 ≤ N ≤ 50), que indicará o número de palavras que virão a seguir. Cada uma das N palavras contém no mínimo uma letra e no máximo 50 letras maiúsculas (‘A’-‘Z’). O fim da entrada é indicado por N = 0.\n",
    "\n",
    "Saída\n",
    "Para cada caso de teste imprima as palavras inserindo tantos espaços quanto forem necessários à esquerda de cada palavra, para que elas apareçam todas alinhadas à direita e na mesma ordem da entrada. Deixe uma linha em branco entre os casos de teste. Não deixe espaços sobrando no final de cada linha nem imprima espaços desnecessários à esquerda, de modo que pelo menos uma das linhas impressa em cada texto inicie com uma letra."
   ]
  },
  {
   "cell_type": "code",
   "execution_count": 11,
   "metadata": {},
   "outputs": [],
   "source": []
  },
  {
   "cell_type": "code",
   "execution_count": 16,
   "metadata": {},
   "outputs": [
    {
     "name": "stdout",
     "output_type": "stream",
     "text": [
      "52\n",
      "lo\n"
     ]
    }
   ],
   "source": [
    "\n",
    "#quanto menos for, mais rapido o codigo\n",
    "numero_palavras = int(input())\n",
    "\n",
    "while numero_palavras != 0:\n",
    "    palavras = []\n",
    "    tamax = 0\n",
    "    for _ in range ( numero_palavras):\n",
    "        palavra = input()\n",
    "        n = len(palavra)\n",
    "        if n > tamax:\n",
    "            tamax = n\n",
    "        palavras.append(palavra)\n",
    "    # ajustar a direita um numero de espaço\n",
    "    for palavra in palavras:\n",
    "        print(palavra.rjust(tamax))\n",
    "#ler em branco, checar se o ultimo caso, se não for imprimi e se for imprimi o espaço em branco\n",
    "    numero_palavras = int(input())\n",
    "    if numero_palavras != 0:\n",
    "        print()\n"
   ]
  },
  {
   "cell_type": "code",
   "execution_count": null,
   "metadata": {},
   "outputs": [],
   "source": []
  }
 ],
 "metadata": {
  "kernelspec": {
   "display_name": "Python 3",
   "language": "python",
   "name": "python3"
  },
  "language_info": {
   "codemirror_mode": {
    "name": "ipython",
    "version": 3
   },
   "file_extension": ".py",
   "mimetype": "text/x-python",
   "name": "python",
   "nbconvert_exporter": "python",
   "pygments_lexer": "ipython3",
   "version": "3.11.3"
  },
  "orig_nbformat": 4
 },
 "nbformat": 4,
 "nbformat_minor": 2
}
