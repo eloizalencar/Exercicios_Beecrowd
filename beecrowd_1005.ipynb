{
 "cells": [
  {
   "cell_type": "code",
   "execution_count": 14,
   "metadata": {},
   "outputs": [
    {
     "name": "stdout",
     "output_type": "stream",
     "text": [
      "MEDIA = 6.43182\n"
     ]
    }
   ],
   "source": [
    "#Realizar o calculo da média ponderada\n",
    "#Float pq a media pode ser em numero decimal\n",
    "A = float(input())\n",
    "B = float(input())\n",
    "\n",
    "#Fazer a soma dos pesos com a média\n",
    "\n",
    "R = (3.5 * A +  7.5 * B) / 11\n",
    "\n",
    "print(f\"MEDIA = {R:.5f}\")"
   ]
  },
  {
   "cell_type": "code",
   "execution_count": null,
   "metadata": {},
   "outputs": [],
   "source": []
  }
 ],
 "metadata": {
  "kernelspec": {
   "display_name": "env",
   "language": "python",
   "name": "python3"
  },
  "language_info": {
   "codemirror_mode": {
    "name": "ipython",
    "version": 3
   },
   "file_extension": ".py",
   "mimetype": "text/x-python",
   "name": "python",
   "nbconvert_exporter": "python",
   "pygments_lexer": "ipython3",
   "version": "3.11.3"
  },
  "orig_nbformat": 4
 },
 "nbformat": 4,
 "nbformat_minor": 2
}
