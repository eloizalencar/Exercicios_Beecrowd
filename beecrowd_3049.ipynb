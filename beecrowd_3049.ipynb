{
 "cells": [
  {
   "cell_type": "markdown",
   "metadata": {},
   "source": [
    "a = b *  h\n",
    "pedaço = 100 = mais da metade de 1/2 (b * h) e outro nada\n",
    "se for metade extamente não vale nada para nenhum dos dois pedaços\n",
    "\n",
    "area = 11200\n"
   ]
  },
  {
   "cell_type": "code",
   "execution_count": 10,
   "metadata": {},
   "outputs": [
    {
     "name": "stdout",
     "output_type": "stream",
     "text": [
      "2\n"
     ]
    }
   ],
   "source": [
    "B = int(input())\n",
    "T = int (input())\n",
    "\n",
    "f = (T + B ) * 35\n",
    "m = 11200 - f\n",
    "\n",
    "if f  == m :\n",
    "    print(\"0\")\n",
    "elif f < m :\n",
    "    print(\"2\")\n",
    "else:\n",
    "    f > m \n",
    "    print(\"1\")"
   ]
  },
  {
   "cell_type": "code",
   "execution_count": null,
   "metadata": {},
   "outputs": [],
   "source": []
  }
 ],
 "metadata": {
  "kernelspec": {
   "display_name": "Python 3",
   "language": "python",
   "name": "python3"
  },
  "language_info": {
   "codemirror_mode": {
    "name": "ipython",
    "version": 3
   },
   "file_extension": ".py",
   "mimetype": "text/x-python",
   "name": "python",
   "nbconvert_exporter": "python",
   "pygments_lexer": "ipython3",
   "version": "3.11.3"
  },
  "orig_nbformat": 4
 },
 "nbformat": 4,
 "nbformat_minor": 2
}
