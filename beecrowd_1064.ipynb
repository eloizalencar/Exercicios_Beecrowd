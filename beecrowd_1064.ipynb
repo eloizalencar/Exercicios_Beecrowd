{
 "cells": [
  {
   "cell_type": "markdown",
   "metadata": {},
   "source": [
    "Leia 6 valores. Em seguida, mostre quantos destes valores digitados foram positivos. Na próxima linha, deve-se mostrar a média de todos os valores positivos digitados, com um dígito após o ponto decimal."
   ]
  },
  {
   "cell_type": "markdown",
   "metadata": {},
   "source": [
    "Em seguida, são criadas duas variáveis: valores_positivos para contar a quantidade de valores positivos e soma_positivos para somar os valores positivos para posterior cálculo da média.\n",
    "\n",
    "Após verificar todos os valores, o código calcula a média dos valores positivos. Primeiro, verifica se valores_positivos é maior que 0 para evitar divisão por zero. Se houver pelo menos um valor positivo, calcula a média dividindo soma_positivos por valores_positivos."
   ]
  },
  {
   "cell_type": "code",
   "execution_count": 17,
   "metadata": {},
   "outputs": [],
   "source": [
    "a = float(input())\n",
    "b = float(input())\n",
    "c = float(input())\n",
    "d = float(input())\n",
    "e = float(input())\n",
    "f = float(input())\n",
    "\n",
    "valores_positivos = 0\n",
    "soma_positivos = 0\n",
    "\n",
    "if a > 0:\n",
    "    valores_positivos += 1\n",
    "    soma_positivos += a\n",
    "if b > 0:\n",
    "    valores_positivos += 1\n",
    "    soma_positivos += b\n",
    "if c > 0:\n",
    "    valores_positivos += 1\n",
    "    soma_positivos += c\n",
    "if d > 0:\n",
    "    valores_positivos += 1\n",
    "    soma_positivos += d\n",
    "if e > 0:\n",
    "    valores_positivos += 1\n",
    "    soma_positivos += e\n",
    "if f > 0:\n",
    "    valores_positivos += 1\n",
    "    soma_positivos += f\n",
    "    "
   ]
  },
  {
   "cell_type": "code",
   "execution_count": 18,
   "metadata": {},
   "outputs": [
    {
     "name": "stdout",
     "output_type": "stream",
     "text": [
      "4 valores positivos\n",
      "7.40\n"
     ]
    }
   ],
   "source": [
    "media = soma_positivos / valores_positivos if valores_positivos > 0 else 0\n",
    "print(\"{} valores positivos\".format(valores_positivos))\n",
    "print(f\"{media:.2f}\")"
   ]
  },
  {
   "cell_type": "code",
   "execution_count": null,
   "metadata": {},
   "outputs": [],
   "source": []
  }
 ],
 "metadata": {
  "kernelspec": {
   "display_name": "Python 3",
   "language": "python",
   "name": "python3"
  },
  "language_info": {
   "codemirror_mode": {
    "name": "ipython",
    "version": 3
   },
   "file_extension": ".py",
   "mimetype": "text/x-python",
   "name": "python",
   "nbconvert_exporter": "python",
   "pygments_lexer": "ipython3",
   "version": "3.11.3"
  },
  "orig_nbformat": 4
 },
 "nbformat": 4,
 "nbformat_minor": 2
}
