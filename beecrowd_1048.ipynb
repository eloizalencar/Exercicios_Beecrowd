{
 "cells": [
  {
   "cell_type": "markdown",
   "metadata": {},
   "source": [
    "A empresa ABC resolveu conceder um aumento de salários a seus funcionários de acordo com a tabela abaixo:\n",
    "\n",
    "\n",
    "Salário\tPercentual de Reajuste\n",
    "0 - 400.00\n",
    "400.01 - 800.00\n",
    "800.01 - 1200.00\n",
    "1200.01 - 2000.00\n",
    "Acima de 2000.00\n",
    "\n",
    "15%\n",
    "12%\n",
    "10%\n",
    "7%\n",
    "4%\n",
    "\n",
    "Leia o salário do funcionário e calcule e mostre o novo salário, bem como o valor de reajuste ganho e o índice reajustado, em percentual."
   ]
  },
  {
   "cell_type": "code",
   "execution_count": 10,
   "metadata": {},
   "outputs": [
    {
     "name": "stdout",
     "output_type": "stream",
     "text": [
      "Novo salario: 2140.00\n",
      "Reajuste ganho: 140.00\n",
      "Em percentual: 7 %\n"
     ]
    }
   ],
   "source": [
    "s = float(input())\n",
    "if 0 <= s <= 400.00:\n",
    "    reajuste = s * 15 // 100\n",
    "    novo_salario = reajuste + s\n",
    "    print(f'Novo salario: {novo_salario:.2f}')\n",
    "    print(f\"Reajuste ganho: {reajuste:.2f}\")\n",
    "    print(\"Em percentual: 15 %\")\n",
    "\n",
    "elif 400.01 <= s <=  800.00:\n",
    "    reajuste = s * 12 // 100\n",
    "    novo_salario = reajuste + s\n",
    "    print(f'Novo salario: {novo_salario:.2f}')\n",
    "    print(f\"Reajuste ganho: {reajuste:.2f}\")\n",
    "    print(\"Em percentual: 12 %\")\n",
    "\n",
    "elif 800.01 <= s <= 1200.00:\n",
    "    reajuste = s * 10 // 100\n",
    "    novo_salario = reajuste + s\n",
    "    print(f'Novo salario: {novo_salario:.2f}')\n",
    "    print(f\"Reajuste ganho: {reajuste:.2f}\")\n",
    "    print(\"Em percentual: 10 %\")\n",
    "\n",
    "elif (1200.01 <= s <= 2000.00):\n",
    "    reajuste = s * 7 // 100\n",
    "    novo_salario = reajuste + s\n",
    "    print(f'Novo salario: {novo_salario:.2f}')\n",
    "    print(f\"Reajuste ganho: {reajuste:.2f}\")\n",
    "    print(\"Em percentual: 7 %\")\n",
    "\n",
    "else:\n",
    "    reajuste = s * 4 // 100\n",
    "    novo_salario = reajuste + s\n",
    "    print(f'Novo salario: {novo_salario:.2f}')\n",
    "    print(f\"Reajuste ganho: {reajuste:.2f}\")\n",
    "    print(\"Em percentual: 4 %\") "
   ]
  },
  {
   "cell_type": "code",
   "execution_count": null,
   "metadata": {},
   "outputs": [],
   "source": []
  },
  {
   "cell_type": "code",
   "execution_count": null,
   "metadata": {},
   "outputs": [],
   "source": []
  },
  {
   "cell_type": "code",
   "execution_count": null,
   "metadata": {},
   "outputs": [],
   "source": []
  }
 ],
 "metadata": {
  "kernelspec": {
   "display_name": "Python 3",
   "language": "python",
   "name": "python3"
  },
  "language_info": {
   "codemirror_mode": {
    "name": "ipython",
    "version": 3
   },
   "file_extension": ".py",
   "mimetype": "text/x-python",
   "name": "python",
   "nbconvert_exporter": "python",
   "pygments_lexer": "ipython3",
   "version": "3.11.3"
  },
  "orig_nbformat": 4
 },
 "nbformat": 4,
 "nbformat_minor": 2
}
