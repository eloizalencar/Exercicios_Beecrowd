{
 "cells": [
  {
   "cell_type": "markdown",
   "metadata": {},
   "source": [
    "Você deve fazer um programa que apresente a sequencia conforme o exemplo abaixo.\n",
    "\n",
    "Entrada\n",
    "Não há nenhuma entrada neste problema.\n",
    "\n",
    "Saída\n",
    "Imprima a sequencia conforme exemplo abaixo."
   ]
  },
  {
   "cell_type": "markdown",
   "metadata": {},
   "source": [
    "round = buildinfuction que arredonda\n"
   ]
  },
  {
   "cell_type": "code",
   "execution_count": 12,
   "metadata": {},
   "outputs": [
    {
     "name": "stdout",
     "output_type": "stream",
     "text": [
      "I=0 J=1 \n",
      "I=0 J=2 \n",
      "I=0 J=3 \n",
      "I=0.2 J=1.2 \n",
      "I=0.2 J=2.2 \n",
      "I=0.2 J=3.2 \n",
      "I=0.4 J=1.4 \n",
      "I=0.4 J=2.4 \n",
      "I=0.4 J=3.4 \n",
      "I=0.6 J=1.6 \n",
      "I=0.6 J=2.6 \n",
      "I=0.6 J=3.6 \n",
      "I=0.8 J=1.8 \n",
      "I=0.8 J=2.8 \n",
      "I=0.8 J=3.8 \n",
      "I=1 J=2 \n",
      "I=1 J=3 \n",
      "I=1 J=4 \n",
      "I=1.2 J=2.2 \n",
      "I=1.2 J=3.2 \n",
      "I=1.2 J=4.2 \n",
      "I=1.4 J=2.4 \n",
      "I=1.4 J=3.4 \n",
      "I=1.4 J=4.4 \n",
      "I=1.6 J=2.6 \n",
      "I=1.6 J=3.6 \n",
      "I=1.6 J=4.6 \n",
      "I=1.8 J=2.8 \n",
      "I=1.8 J=3.8 \n",
      "I=1.8 J=4.8 \n",
      "I=2 J=3 \n",
      "I=2 J=4 \n",
      "I=2 J=5 \n"
     ]
    }
   ],
   "source": [
    "\n",
    "\n",
    "for i in range(11):\n",
    "    I = round  (0.2 * i, 1)\n",
    "    if i % 5 == 0:\n",
    "        I = int(I)\n",
    "    for j in range(3): # ele vai assumir 0, 1 e 2\n",
    "        J = j + I + 1\n",
    "        print(f\"I={I} J={J}\")\n"
   ]
  },
  {
   "cell_type": "code",
   "execution_count": null,
   "metadata": {},
   "outputs": [],
   "source": []
  }
 ],
 "metadata": {
  "kernelspec": {
   "display_name": "Python 3",
   "language": "python",
   "name": "python3"
  },
  "language_info": {
   "codemirror_mode": {
    "name": "ipython",
    "version": 3
   },
   "file_extension": ".py",
   "mimetype": "text/x-python",
   "name": "python",
   "nbconvert_exporter": "python",
   "pygments_lexer": "ipython3",
   "version": "3.11.3"
  },
  "orig_nbformat": 4
 },
 "nbformat": 4,
 "nbformat_minor": 2
}
