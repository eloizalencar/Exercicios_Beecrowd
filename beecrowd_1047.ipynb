{
 "cells": [
  {
   "cell_type": "markdown",
   "metadata": {},
   "source": [
    "Leia a hora inicial, minuto inicial, hora final e minuto final de um jogo. A seguir calcule a duração do jogo.\n",
    "\n",
    "Obs: O jogo tem duração mínima de um (1) minuto e duração máxima de 24 horas.\n",
    "\n",
    "Entrada\n",
    "Quatro números inteiros representando a hora de início e fim do jogo.\n",
    "\n",
    "Saída\n",
    "Mostre a seguinte mensagem: “O JOGO DUROU XXX HORA(S) E YYY MINUTO(S)” ."
   ]
  },
  {
   "cell_type": "markdown",
   "metadata": {},
   "source": [
    "Se todos os tempos forem iguais =  dura 24 horas\n",
    "Se o minuto inicial for maior que o final =  dar problema\n",
    "se o segundo valor for menor que o pri"
   ]
  },
  {
   "cell_type": "code",
   "execution_count": 13,
   "metadata": {},
   "outputs": [
    {
     "name": "stdout",
     "output_type": "stream",
     "text": [
      "O JOGO DUROU 22 HORA(S) E 59 MINUTO(S)\n"
     ]
    }
   ],
   "source": [
    "# Entrada\n",
    "hi, mi, hf, mf = map(int, input().split())\n",
    "\n",
    "# Conversão dos horários para minutos\n",
    "inicio_em_minutos = hi * 60 + mi\n",
    "fim_em_minutos = hf * 60 + mf\n",
    "\n",
    "# Cálculo da diferença de tempo em minutos\n",
    "duracao_total_em_minutos = fim_em_minutos - inicio_em_minutos\n",
    "\n",
    "# Tratamento do caso de atravessar a meia-noite\n",
    "if duracao_total_em_minutos <= 0:\n",
    "    duracao_total_em_minutos += 24 * 60\n",
    "\n",
    "# Cálculo das horas e minutos da duração\n",
    "horas = duracao_total_em_minutos // 60\n",
    "minutos = duracao_total_em_minutos % 60\n",
    "\n",
    "# Saída\n",
    "print(\"O JOGO DUROU {} HORA(S) E {} MINUTO(S)\".format(horas, minutos))\n",
    "\n"
   ]
  },
  {
   "cell_type": "code",
   "execution_count": null,
   "metadata": {},
   "outputs": [],
   "source": []
  }
 ],
 "metadata": {
  "kernelspec": {
   "display_name": "Python 3",
   "language": "python",
   "name": "python3"
  },
  "language_info": {
   "codemirror_mode": {
    "name": "ipython",
    "version": 3
   },
   "file_extension": ".py",
   "mimetype": "text/x-python",
   "name": "python",
   "nbconvert_exporter": "python",
   "pygments_lexer": "ipython3",
   "version": "3.11.3"
  },
  "orig_nbformat": 4
 },
 "nbformat": 4,
 "nbformat_minor": 2
}
