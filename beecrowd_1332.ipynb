{
 "cells": [
  {
   "cell_type": "markdown",
   "metadata": {},
   "source": [
    "Seu irmão mais novo aprendeu a escrever apenas um, dois e três, em Inglês. Ele escreveu muitas dessas palavras em um papel e a sua tarefa é reconhecê-las. Nota-se que o seu irmão mais novo é apenas uma criança, então ele pode fazer pequenos erros: para cada palavra, pode haver, no máximo, uma letra errada. O comprimento de palavra é sempre correto. É garantido que cada palavra que ele escreveu é em letras minúsculas, e cada palavra que ele escreveu tem uma interpretação única.\n",
    "\n",
    "Entrada\n",
    "A primeira linha contém o número de palavras que o seu irmão mais novo escreveu. Cada uma das linhas seguintes contém uma única palavra com todas as letras em minúsculo. As palavras satisfazem as restrições acima: no máximo uma letra poderia estar errada, mas o comprimento da palavra está sempre correto. Haverá, no máximo, 1000 palavras de entrada.\n",
    "\n",
    "Saída\n",
    "Para cada caso de teste, imprima o valor numérico da palavra."
   ]
  },
  {
   "cell_type": "code",
   "execution_count": 3,
   "metadata": {},
   "outputs": [
    {
     "name": "stdout",
     "output_type": "stream",
     "text": [
      "1\n",
      "2\n",
      "3\n"
     ]
    }
   ],
   "source": [
    "lista = {\"one \": 1,\n",
    "         \"two \": 2,\n",
    "         \"three\" : 3\n",
    "}\n",
    "n = int(input())\n",
    "for _ in range(n):\n",
    "    palavra = input().strip()\n",
    "    if  palavra in lista:\n",
    "        numero = lista[palavra]\n",
    "    else:\n",
    "        if len(palavra) == 3:\n",
    "            if palavra[0] == \"o\" or palavra [1] == \"n\" :\n",
    "                numero = 1\n",
    "            elif palavra[0] == \"t\" or palavra [1] == \"w\":\n",
    "                numero = 2\n",
    "        elif len(palavra) == 5:\n",
    "                numero = 3\n",
    "        else:\n",
    "            numero = \"numero não encontrado\"\n",
    "    print(numero)"
   ]
  },
  {
   "cell_type": "markdown",
   "metadata": {},
   "source": [
    "Lê o número de casos de teste (qte).\n",
    "\n",
    "Inicia um loop for que será executado qte vezes, representando cada caso de teste.\n",
    "\n",
    "Lê a palavra inserida (texto).\n",
    "\n",
    "Verifica o tamanho da palavra usando len(texto). Se o tamanho for maior que 3, imprime 3.\n",
    "\n",
    "Caso contrário, inicia uma variável soma para contar quantas letras 'o', 'n' ou 'e' estão na palavra.\n",
    "\n",
    "Verifica individualmente cada posição da palavra. Se a letra na posição for 'o', 'n' ou 'e', incrementa soma em 1.\n",
    "\n",
    "Verifica se soma é maior ou igual a 2. Se for, imprime 1.\n",
    "\n",
    "Caso contrário, imprime 2."
   ]
  },
  {
   "cell_type": "code",
   "execution_count": 4,
   "metadata": {},
   "outputs": [
    {
     "name": "stdout",
     "output_type": "stream",
     "text": [
      "1\n",
      "2\n",
      "3\n"
     ]
    }
   ],
   "source": [
    "\n",
    "qte = int(input())\n",
    "\n",
    "for i in range(qte):\n",
    "    texto = input()\n",
    "   \n",
    "    if(len(texto)>3):\n",
    "        print(3)\n",
    "    else:\n",
    "        soma = 0\n",
    "        if (texto[0:1]=='o'):\n",
    "            soma += 1\n",
    "        if (texto[1:2]=='n'):\n",
    "            soma += 1\n",
    "        if (texto[2:3]=='e'):\n",
    "            soma += 1\n",
    "       \n",
    "        if(soma>=2):\n",
    "            print(1)\n",
    "        else:\n",
    "            print(2)"
   ]
  },
  {
   "cell_type": "code",
   "execution_count": null,
   "metadata": {},
   "outputs": [],
   "source": []
  }
 ],
 "metadata": {
  "kernelspec": {
   "display_name": "Python 3",
   "language": "python",
   "name": "python3"
  },
  "language_info": {
   "codemirror_mode": {
    "name": "ipython",
    "version": 3
   },
   "file_extension": ".py",
   "mimetype": "text/x-python",
   "name": "python",
   "nbconvert_exporter": "python",
   "pygments_lexer": "ipython3",
   "version": "3.11.3"
  },
  "orig_nbformat": 4
 },
 "nbformat": 4,
 "nbformat_minor": 2
}
