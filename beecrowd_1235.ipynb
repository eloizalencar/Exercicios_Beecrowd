{
 "cells": [
  {
   "cell_type": "code",
   "execution_count": 3,
   "metadata": {},
   "outputs": [
    {
     "ename": "ValueError",
     "evalue": "could not convert string to float: 'I ENIL SIHTHSIREBBIG S'",
     "output_type": "error",
     "traceback": [
      "\u001b[1;31m---------------------------------------------------------------------------\u001b[0m",
      "\u001b[1;31mValueError\u001b[0m                                Traceback (most recent call last)",
      "Cell \u001b[1;32mIn[3], line 2\u001b[0m\n\u001b[0;32m      1\u001b[0m \u001b[39m# Lê o número de casos de teste\u001b[39;00m\n\u001b[1;32m----> 2\u001b[0m N \u001b[39m=\u001b[39m \u001b[39mfloat\u001b[39;49m(\u001b[39minput\u001b[39;49m())\n\u001b[0;32m      4\u001b[0m \u001b[39m# Loop através dos casos de teste\u001b[39;00m\n\u001b[0;32m      5\u001b[0m \u001b[39mfor\u001b[39;00m _ \u001b[39min\u001b[39;00m \u001b[39mrange\u001b[39m(n):\n\u001b[0;32m      6\u001b[0m     \u001b[39m# Lê a linha da entrada\u001b[39;00m\n",
      "\u001b[1;31mValueError\u001b[0m: could not convert string to float: 'I ENIL SIHTHSIREBBIG S'"
     ]
    }
   ],
   "source": [
    "# Lê o número de casos de teste\n",
    "N = float(input())\n",
    "\n",
    "# Loop através dos casos de teste\n",
    "for _ in range(n):\n",
    "    # Lê a linha da entrada\n",
    "    linha = input()\n",
    "\n",
    "    # Inicializa uma string vazia para armazenar o resultado\n",
    "    resultado = \" \"\n",
    "\n",
    "    # Loop através dos caracteres da metade direita até a metade esquerda\n",
    "    for i in range(len(linha) // 2 - 1, -1, -1):\n",
    "        resultado += linha[len(linha) // 2 + i] + linha[i]\n",
    "\n",
    "    # Imprime o resultado\n",
    "    print(resultado) "
   ]
  }
 ],
 "metadata": {
  "kernelspec": {
   "display_name": "Python 3",
   "language": "python",
   "name": "python3"
  },
  "language_info": {
   "codemirror_mode": {
    "name": "ipython",
    "version": 3
   },
   "file_extension": ".py",
   "mimetype": "text/x-python",
   "name": "python",
   "nbconvert_exporter": "python",
   "pygments_lexer": "ipython3",
   "version": "3.11.3"
  },
  "orig_nbformat": 4
 },
 "nbformat": 4,
 "nbformat_minor": 2
}
