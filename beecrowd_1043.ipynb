{
 "cells": [
  {
   "cell_type": "markdown",
   "metadata": {},
   "source": [
    "Leia 3 valores reais (A, B e C) e verifique se eles formam ou não um triângulo. Em caso positivo, calcule o perímetro do triângulo e apresente a mensagem:\n",
    "\n",
    "\n",
    "Perimetro = XX.X\n",
    "\n",
    "\n",
    "Em caso negativo, calcule a área do trapézio que tem A e B como base e C como altura, mostrando a mensagem\n",
    "\n",
    "\n",
    "Area = XX.X\n",
    "\n",
    "perimetro do triangulo:\n",
    "P=a+b+c\n",
    "\n",
    "trapezio = \n",
    "B + b x A / 2"
   ]
  },
  {
   "cell_type": "markdown",
   "metadata": {},
   "source": [
    "Para que três valores formem um triângulo, eles precisam satisfazer a desigualdade triangular. A desigualdade triangular afirma que a soma de quaisquer dois lados de um triângulo deve ser maior do que o terceiro lado.\n",
    "\n",
    "Em termos matemáticos, se a, b e c são os três lados de um triângulo, então a seguinte condição deve ser verdadeira:\n",
    "a + b > c\n",
    "b + c > a\n",
    "c + a > b"
   ]
  },
  {
   "cell_type": "code",
   "execution_count": 4,
   "metadata": {},
   "outputs": [
    {
     "name": "stdout",
     "output_type": "stream",
     "text": [
      "Perimentro = 12.1\n"
     ]
    }
   ],
   "source": [
    "A, B, C = map(float, input().split())\n",
    "\n",
    "condicao = (A + B > C) and (B + C > A) and (C + A > B)\n",
    "if condicao:\n",
    "    perimetro = A + B + C\n",
    "    print(f\"Perimetro = {perimetro:.1f}\")\n",
    "\n",
    "else:\n",
    "    trapezio = ((A + B) * C) // 2\n",
    "    print(f\"Area = {trapezio:.1f}\")"
   ]
  },
  {
   "cell_type": "code",
   "execution_count": null,
   "metadata": {},
   "outputs": [],
   "source": []
  }
 ],
 "metadata": {
  "kernelspec": {
   "display_name": "Python 3",
   "language": "python",
   "name": "python3"
  },
  "language_info": {
   "codemirror_mode": {
    "name": "ipython",
    "version": 3
   },
   "file_extension": ".py",
   "mimetype": "text/x-python",
   "name": "python",
   "nbconvert_exporter": "python",
   "pygments_lexer": "ipython3",
   "version": "3.11.3"
  },
  "orig_nbformat": 4
 },
 "nbformat": 4,
 "nbformat_minor": 2
}
