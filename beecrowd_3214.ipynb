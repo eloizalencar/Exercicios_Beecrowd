{
 "cells": [
  {
   "cell_type": "markdown",
   "metadata": {},
   "source": [
    "Tim é um bebedor de refrigerante absolutamento obsessivo, ele simplesmente não consegue o suficiente. Mais irritantemente porém, ele quase nunca tem dinheiro, então sua única forma legal mais óbvia de obter mais refrigerante é pegar o dinheiro que ele recebe quando recicla garrafas vazias de refrigerante para comprar novas. Para adicionar com as garrafas resultantes de seu próprio consumo, ele às vezes encontra garrafas vazias na rua. Um dia ele estava com muita sede, então ele realmente bebeu refrigerantes até que ele não pudesse pagar um novo.\n",
    "\n",
    "Entrada\n",
    "A entrada cosiste de três inteiros não negativos E, F, C, onde E < 1000 é igual ao número de garrafas de refrigerante vazias na posse de Tim no ínicio do dia, F < 1000 é o número de garrafas de refrigerante vaizas encontradas durante o dia, e 1 < C < 2000 é o número de garrafas vazias necessárias para comprar um novo refrigerante.\n",
    "\n",
    "Saída\n",
    "Quantos refrigerantes Tim bebeu em seu dia de muita sede?"
   ]
  },
  {
   "cell_type": "code",
   "execution_count": 5,
   "metadata": {},
   "outputs": [],
   "source": [
    "\n",
    "e, f, c = map(int, input().split())  # Leitura dos valores de E, F e C\n",
    "\n",
    "garrafa_total = e + f  # Total de garrafas disponíveis\n",
    "refri = 0  # Total de refrigerantes bebidos\n",
    "\n",
    "while garrafa_total >= c:  # Enquanto houver garrafas suficientes para comprar um refrigerante\n",
    "    refri_garrafa = garrafa_total // c  # Calcula quantos refrigerantes podem ser comprados\n",
    "    refri += refri_garrafa  # Adiciona ao total de refrigerantes bebidos\n",
    "    \n",
    "    # Calcula quantas garrafas sobram após comprar os refrigerantes\n",
    "    refri = refri_garrafa + (garrafa_total % c)\n",
    "\n",
    "print(refri)  # Imprime o total de refrigerantes bebidos\n",
    "\n"
   ]
  },
  {
   "cell_type": "code",
   "execution_count": null,
   "metadata": {},
   "outputs": [],
   "source": []
  }
 ],
 "metadata": {
  "kernelspec": {
   "display_name": "Python 3",
   "language": "python",
   "name": "python3"
  },
  "language_info": {
   "codemirror_mode": {
    "name": "ipython",
    "version": 3
   },
   "file_extension": ".py",
   "mimetype": "text/x-python",
   "name": "python",
   "nbconvert_exporter": "python",
   "pygments_lexer": "ipython3",
   "version": "3.11.3"
  },
  "orig_nbformat": 4
 },
 "nbformat": 4,
 "nbformat_minor": 2
}
