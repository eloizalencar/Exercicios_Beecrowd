{
 "cells": [
  {
   "cell_type": "markdown",
   "metadata": {},
   "source": [
    "Em um país imaginário denominado Lisarb, todos os habitantes ficam felizes em pagar seus impostos, pois sabem que nele não existem políticos corruptos e os recursos arrecadados são utilizados em benefício da população, sem qualquer desvio. A moeda deste país é o Rombus, cujo símbolo é o R$.\n",
    "\n",
    "Leia um valor com duas casas decimais, equivalente ao salário de uma pessoa de Lisarb. Em seguida, calcule e mostre o valor que esta pessoa deve pagar de Imposto de Renda, segundo a tabela abaixo.\n",
    "\n",
    "\n",
    "\n",
    "Lembre que, se o salário for R$ 3002.00, a taxa que incide é de 8% apenas sobre R$ 1000.00, pois a faixa de salário que fica de R$ 0.00 até R$ 2000.00 é isenta de Imposto de Renda. No exemplo fornecido (abaixo), a taxa é de 8% sobre R$ 1000.00 + 18% sobre R$ 2.00, o que resulta em R$ 80.36 no total. O valor deve ser impresso com duas casas decimais."
   ]
  },
  {
   "cell_type": "code",
   "execution_count": 38,
   "metadata": {},
   "outputs": [
    {
     "name": "stdout",
     "output_type": "stream",
     "text": [
      "R$ 355.60\n"
     ]
    }
   ],
   "source": [
    "renda = float(input())\n",
    "\n",
    "if 2000.01 <= renda <= 3000.00:\n",
    "    imposto = (renda - 2000) * 0.08 \n",
    "    print(f\"R$ {imposto:.2f}\")\n",
    "\n",
    "elif 3000.01 <= renda <= 4500.00:\n",
    "    imposto = 1000.00 * 0.08 + (renda - 3000) * 0.18 \n",
    "    print(f\"R$ {imposto:.2f}\")\n",
    "\n",
    "elif renda > 4500.00:\n",
    "    imposto = 1000 * 0.08 + 1500 * 0.18 + (renda - 4500) * 0.28\n",
    "    print(f\"R$ {imposto:.2f}\")\n",
    "    \n",
    "else:\n",
    "    renda <= 2000.00\n",
    "    print(\"Isento\")\n",
    "    "
   ]
  },
  {
   "cell_type": "code",
   "execution_count": null,
   "metadata": {},
   "outputs": [],
   "source": []
  }
 ],
 "metadata": {
  "kernelspec": {
   "display_name": "Python 3",
   "language": "python",
   "name": "python3"
  },
  "language_info": {
   "codemirror_mode": {
    "name": "ipython",
    "version": 3
   },
   "file_extension": ".py",
   "mimetype": "text/x-python",
   "name": "python",
   "nbconvert_exporter": "python",
   "pygments_lexer": "ipython3",
   "version": "3.11.3"
  },
  "orig_nbformat": 4
 },
 "nbformat": 4,
 "nbformat_minor": 2
}
