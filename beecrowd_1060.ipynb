{
 "cells": [
  {
   "cell_type": "markdown",
   "metadata": {},
   "source": [
    "Faça um programa que leia 6 valores. Estes valores serão somente negativos ou positivos (desconsidere os valores nulos). A seguir, mostre a quantidade de valores positivos digitados."
   ]
  },
  {
   "cell_type": "markdown",
   "metadata": {},
   "source": [
    "Claro, vou explicar o raciocínio por trás do uso da variável valores_positivos e do operador += no código.\n",
    "\n",
    "A variável valores_positivos é usada para acompanhar quantos dos valores fornecidos são positivos. Ela é inicializada com o valor 0 no início do programa e, em seguida, é incrementada sempre que um valor positivo é encontrado.\n",
    "\n",
    "O operador += é uma forma abreviada de incrementar uma variável. Ele adiciona o valor do lado direito ao valor atual da variável do lado esquerdo e atualiza o valor da variável com o resultado. Por exemplo:\n",
    "valores_positivos += 1\n",
    "\n",
    "Essa linha de código é equivalente a:\n",
    "valores_positivos = valores_positivos + 1\n",
    "\n",
    "Portanto, sempre que encontramos um valor positivo, usamos o operador += para aumentar a contagem de valores positivos em 1.\n",
    "\n",
    "No final do programa, a variável valores_positivos terá a quantidade total de valores positivos lidos e ela é impressa como saída.\n"
   ]
  },
  {
   "cell_type": "code",
   "execution_count": 10,
   "metadata": {},
   "outputs": [
    {
     "name": "stdout",
     "output_type": "stream",
     "text": [
      "4 valores positivos\n"
     ]
    }
   ],
   "source": [
    "a = float(input())\n",
    "b = float(input())\n",
    "c = float(input())\n",
    "d = float(input())\n",
    "e = float(input())\n",
    "f = float(input())\n",
    "valores_positivos = 0\n",
    "if a > 0:\n",
    "    valores_positivos += 1\n",
    "if b > 0:\n",
    "    valores_positivos += 1\n",
    "if c > 0:\n",
    "    valores_positivos += 1\n",
    "if d > 0:\n",
    "    valores_positivos += 1\n",
    "if e > 0:\n",
    "    valores_positivos += 1\n",
    "if f > 0:\n",
    "    valores_positivos += 1\n",
    "\n",
    "     \n",
    "print(\"{} valores positivos\".format(valores_positivos))\n"
   ]
  },
  {
   "cell_type": "code",
   "execution_count": null,
   "metadata": {},
   "outputs": [],
   "source": []
  }
 ],
 "metadata": {
  "kernelspec": {
   "display_name": "Python 3",
   "language": "python",
   "name": "python3"
  },
  "language_info": {
   "codemirror_mode": {
    "name": "ipython",
    "version": 3
   },
   "file_extension": ".py",
   "mimetype": "text/x-python",
   "name": "python",
   "nbconvert_exporter": "python",
   "pygments_lexer": "ipython3",
   "version": "3.11.3"
  },
  "orig_nbformat": 4
 },
 "nbformat": 4,
 "nbformat_minor": 2
}
