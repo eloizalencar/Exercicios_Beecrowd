{
 "cells": [
  {
   "cell_type": "markdown",
   "metadata": {},
   "source": [
    "Escreva um programa que repita a leitura de uma senha até que ela seja válida. Para cada leitura de senha incorreta informada, escrever a mensagem \"Senha Invalida\". Quando a senha for informada corretamente deve ser impressa a mensagem \"Acesso Permitido\" e o algoritmo encerrado. Considere que a senha correta é o valor 2002. \n",
    "\n",
    "Entrada\n",
    "A entrada é composta por vários casos de testes contendo valores inteiros.\n",
    "\n",
    "Saída\n",
    "Para cada valor lido mostre a mensagem correspondente à descrição do problema."
   ]
  },
  {
   "cell_type": "code",
   "execution_count": 1,
   "metadata": {},
   "outputs": [
    {
     "name": "stdout",
     "output_type": "stream",
     "text": [
      "Senha Invalida\n",
      "Senha Invalida\n",
      "Senha Invalida\n",
      "Acesso Permitido\n"
     ]
    }
   ],
   "source": [
    "while True:\n",
    "    senha = int(input())\n",
    "    if senha == 2002:\n",
    "        print(\"Acesso Permitido\")\n",
    "        break\n",
    "    else:\n",
    "        print(\"Senha Invalida\")\n"
   ]
  },
  {
   "cell_type": "code",
   "execution_count": null,
   "metadata": {},
   "outputs": [],
   "source": []
  }
 ],
 "metadata": {
  "kernelspec": {
   "display_name": "Python 3",
   "language": "python",
   "name": "python3"
  },
  "language_info": {
   "codemirror_mode": {
    "name": "ipython",
    "version": 3
   },
   "file_extension": ".py",
   "mimetype": "text/x-python",
   "name": "python",
   "nbconvert_exporter": "python",
   "pygments_lexer": "ipython3",
   "version": "3.11.3"
  },
  "orig_nbformat": 4
 },
 "nbformat": 4,
 "nbformat_minor": 2
}
