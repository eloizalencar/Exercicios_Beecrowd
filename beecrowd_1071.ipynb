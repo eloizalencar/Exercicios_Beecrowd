{
 "cells": [
  {
   "cell_type": "markdown",
   "metadata": {},
   "source": [
    "Leia 2 valores inteiros X e Y. A seguir, calcule e mostre a soma dos números impares entre eles.\n",
    "\n"
   ]
  },
  {
   "cell_type": "markdown",
   "metadata": {},
   "source": [
    "Usamos um loop for para percorrer os números entre inicio + 1 e fim - 1. O operador % é usado para verificar se o número é ímpar (num % 2 != 0), ou seja, se o resto da divisão por 2 não é igual a zero. Se o número for ímpar, ele é adicionado à variável soma_impares."
   ]
  },
  {
   "cell_type": "code",
   "execution_count": 6,
   "metadata": {},
   "outputs": [
    {
     "name": "stdout",
     "output_type": "stream",
     "text": [
      "0\n"
     ]
    }
   ],
   "source": [
    "X = int(input())\n",
    "Y = int(input())\n",
    "i = min(X, Y)\n",
    "f = max (X,Y)\n",
    "soma_impares = 0\n",
    "for numero in range( i + 1, f):\n",
    "    if numero % 2!= 0:\n",
    "        soma_impares += numero\n",
    "print(soma_impares)"
   ]
  }
 ],
 "metadata": {
  "kernelspec": {
   "display_name": "Python 3",
   "language": "python",
   "name": "python3"
  },
  "language_info": {
   "codemirror_mode": {
    "name": "ipython",
    "version": 3
   },
   "file_extension": ".py",
   "mimetype": "text/x-python",
   "name": "python",
   "nbconvert_exporter": "python",
   "pygments_lexer": "ipython3",
   "version": "3.11.3"
  },
  "orig_nbformat": 4
 },
 "nbformat": 4,
 "nbformat_minor": 2
}
