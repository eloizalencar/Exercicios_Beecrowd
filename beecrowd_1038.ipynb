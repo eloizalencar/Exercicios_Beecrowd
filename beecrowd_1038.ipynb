{
 "cells": [
  {
   "cell_type": "markdown",
   "metadata": {},
   "source": [
    "Com base na tabela abaixo, escreva um programa que leia o código de um item e a quantidade deste item. A seguir, calcule e mostre o valor da conta a pagar."
   ]
  },
  {
   "cell_type": "markdown",
   "metadata": {},
   "source": [
    "para criar um dicionario ou data frame\n",
    "menu = {\n",
    "    chave: valor\n",
    "}"
   ]
  },
  {
   "cell_type": "code",
   "execution_count": 6,
   "metadata": {},
   "outputs": [
    {
     "name": "stdout",
     "output_type": "stream",
     "text": [
      "Total: R$ 13.50\n"
     ]
    }
   ],
   "source": [
    "#entrada\n",
    "\n",
    "codigo, quantidade = list(map(int, input().split()))\n",
    "\n",
    "#Criar um dicionario ou df\n",
    "menu = {\n",
    "    1: 4,\n",
    "    2: 4.5,\n",
    "    3: 5,\n",
    "    4: 2,\n",
    "    5: 1.5,\n",
    "}\n",
    " \n",
    " # a quantidade x o valor\n",
    "total = quantidade * menu[codigo]\n",
    "\n",
    "# calculo\n",
    "\n",
    "print(f\"Total: R$ {total:.2f}\")"
   ]
  },
  {
   "cell_type": "code",
   "execution_count": null,
   "metadata": {},
   "outputs": [],
   "source": []
  }
 ],
 "metadata": {
  "kernelspec": {
   "display_name": "Python 3",
   "language": "python",
   "name": "python3"
  },
  "language_info": {
   "codemirror_mode": {
    "name": "ipython",
    "version": 3
   },
   "file_extension": ".py",
   "mimetype": "text/x-python",
   "name": "python",
   "nbconvert_exporter": "python",
   "pygments_lexer": "ipython3",
   "version": "3.11.3"
  },
  "orig_nbformat": 4
 },
 "nbformat": 4,
 "nbformat_minor": 2
}
