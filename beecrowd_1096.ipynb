{
 "cells": [
  {
   "cell_type": "markdown",
   "metadata": {},
   "source": [
    "Você deve fazer um programa que apresente a sequencia conforme o exemplo abaixo.\n",
    "\n",
    "Entrada\n",
    "Não há nenhuma entrada neste problema.\n",
    "\n",
    "Saída\n",
    "Imprima a sequencia conforme exemplo abaixo"
   ]
  },
  {
   "cell_type": "markdown",
   "metadata": {},
   "source": [
    "\t\n",
    "I=1 J=7\n",
    "I=1 J=6\n",
    "I=1 J=5\n",
    "I=3 J=7\n",
    "I=3 J=6\n",
    "I=3 J=5\n",
    "...\n",
    "I=9 J=7\n",
    "I=9 J=6\n",
    "I=9 J=5"
   ]
  },
  {
   "cell_type": "code",
   "execution_count": 36,
   "metadata": {},
   "outputs": [
    {
     "name": "stdout",
     "output_type": "stream",
     "text": [
      "I=1 J=7\n",
      "I=1 J=6\n",
      "I=1 J=5\n",
      "I=3 J=7\n",
      "I=3 J=6\n",
      "I=3 J=5\n",
      "I=5 J=7\n",
      "I=5 J=6\n",
      "I=5 J=5\n",
      "I=7 J=7\n",
      "I=7 J=6\n",
      "I=7 J=5\n",
      "I=9 J=7\n",
      "I=9 J=6\n",
      "I=9 J=5\n"
     ]
    }
   ],
   "source": [
    "i = 1\n",
    "j = 7\n",
    "while i <= 9:\n",
    "    for _ in range(4-1):\n",
    "        print(f\"I={i} J={j}\")\n",
    "        j -= 1\n",
    "    i += 2\n",
    "    j += 3\n"
   ]
  },
  {
   "cell_type": "code",
   "execution_count": null,
   "metadata": {},
   "outputs": [],
   "source": []
  }
 ],
 "metadata": {
  "kernelspec": {
   "display_name": "Python 3",
   "language": "python",
   "name": "python3"
  },
  "language_info": {
   "codemirror_mode": {
    "name": "ipython",
    "version": 3
   },
   "file_extension": ".py",
   "mimetype": "text/x-python",
   "name": "python",
   "nbconvert_exporter": "python",
   "pygments_lexer": "ipython3",
   "version": "3.11.3"
  },
  "orig_nbformat": 4
 },
 "nbformat": 4,
 "nbformat_minor": 2
}
