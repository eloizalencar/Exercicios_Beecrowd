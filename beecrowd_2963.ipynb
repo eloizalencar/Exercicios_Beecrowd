{
 "cells": [
  {
   "cell_type": "code",
   "execution_count": 1,
   "metadata": {},
   "outputs": [],
   "source": [
    "N = int(input())\n",
    "list = []\n",
    "\n",
    "for _ in range (N):\n",
    "    v = float(input())\n",
    "    list.append(v)\n",
    "    voto = max(list)\n",
    "if voto == list[0]:\n",
    "        print(\"S\")\n",
    "\n",
    "else: \n",
    "        voto != list[0]\n",
    "        print(\"N\") "
   ]
  },
  {
   "cell_type": "code",
   "execution_count": null,
   "metadata": {},
   "outputs": [],
   "source": []
  }
 ],
 "metadata": {
  "kernelspec": {
   "display_name": "Python 3",
   "language": "python",
   "name": "python3"
  },
  "language_info": {
   "codemirror_mode": {
    "name": "ipython",
    "version": 3
   },
   "file_extension": ".py",
   "mimetype": "text/x-python",
   "name": "python",
   "nbconvert_exporter": "python",
   "pygments_lexer": "ipython3",
   "version": "3.11.3"
  },
  "orig_nbformat": 4
 },
 "nbformat": 4,
 "nbformat_minor": 2
}
