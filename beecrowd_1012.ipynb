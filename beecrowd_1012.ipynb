{
 "cells": [
  {
   "cell_type": "markdown",
   "metadata": {},
   "source": [
    "Escreva um programa que leia três valores com ponto flutuante de dupla precisão: A, B e C. Em seguida, calcule e mostre:\n",
    "a) a área do triângulo retângulo que tem A por base e C por altura.\n",
    "b) a área do círculo de raio C. (pi = 3.14159)\n",
    "c) a área do trapézio que tem A e B por bases e C por altura.\n",
    "d) a área do quadrado que tem lado B.\n",
    "e) a área do retângulo que tem lados A e B."
   ]
  },
  {
   "cell_type": "markdown",
   "metadata": {},
   "source": [
    "Areas\n",
    "triangulo =\n",
    " base x altura/2\n",
    "circulo = \n",
    "pi x r^2\n",
    "trapezio = \n",
    "B + b x A / 2\n",
    "quadrado = \n",
    "B^2\n",
    "retangulo =\n",
    " Base x altura"
   ]
  },
  {
   "cell_type": "code",
   "execution_count": 3,
   "metadata": {},
   "outputs": [],
   "source": [
    "#Declarando a variavel\n",
    "A, B, C = list(map(float, input().split()))\n"
   ]
  },
  {
   "cell_type": "code",
   "execution_count": 6,
   "metadata": {},
   "outputs": [],
   "source": [
    "#Calculo\n",
    "pi = 3.14159\n",
    "Atriangulo = A * C /2\n",
    "Acirculo = pi * C ** 2\n",
    "Atrapezio = (A + B) * C /2\n",
    "Aquadrado = B **2\n",
    "Aretang = A * B\n",
    "\n"
   ]
  },
  {
   "cell_type": "code",
   "execution_count": 7,
   "metadata": {},
   "outputs": [
    {
     "name": "stdout",
     "output_type": "stream",
     "text": [
      "TRANGULO: 7.800\n",
      "CIRCULO: 84.949\n",
      "TRAPEZIO: 18.200\n",
      "QUADRADO: 16.000\n",
      "RETANGULO: 12.000\n"
     ]
    }
   ],
   "source": [
    "print(f'TRiANGULO: {Atriangulo:.3f}')\n",
    "print(f'CIRCULO: {Acirculo:.3f}')\n",
    "print(f'TRAPEZIO: {Atrapezio:.3f}')\n",
    "print(f'QUADRADO: {Aquadrado:.3f}')\n",
    "print(f'RETANGULO: {Aretang:.3f}')"
   ]
  },
  {
   "cell_type": "code",
   "execution_count": null,
   "metadata": {},
   "outputs": [],
   "source": []
  }
 ],
 "metadata": {
  "kernelspec": {
   "display_name": "Python 3",
   "language": "python",
   "name": "python3"
  },
  "language_info": {
   "codemirror_mode": {
    "name": "ipython",
    "version": 3
   },
   "file_extension": ".py",
   "mimetype": "text/x-python",
   "name": "python",
   "nbconvert_exporter": "python",
   "pygments_lexer": "ipython3",
   "version": "3.11.3"
  },
  "orig_nbformat": 4
 },
 "nbformat": 4,
 "nbformat_minor": 2
}
