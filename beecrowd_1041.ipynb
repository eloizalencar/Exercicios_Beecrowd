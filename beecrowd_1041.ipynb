{
 "cells": [
  {
   "cell_type": "markdown",
   "metadata": {},
   "source": [
    "Leia 2 valores com uma casa decimal (x e y), que devem representar as coordenadas de um ponto em um plano. A seguir, determine qual o quadrante ao qual pertence o ponto, ou se está sobre um dos eixos cartesianos ou na origem (x = y = 0).\n",
    "Se o ponto estiver na origem, escreva a mensagem “Origem”.\n",
    "\n",
    "Se o ponto estiver sobre um dos eixos escreva “Eixo X” ou “Eixo Y”, conforme for a situação."
   ]
  },
  {
   "cell_type": "markdown",
   "metadata": {},
   "source": [
    "Eixo X e Eixo Y:\n",
    "Se o ponto estiver sobre o eixo x, significa que y = 0. Isso ocorre quando o ponto está na linha horizontal que cruza o eixo y.\n",
    "Se o ponto estiver sobre o eixo y, significa que x = 0. Isso ocorre quando o ponto está na linha vertical que cruza o eixo x.\n",
    "Quadrantes:\n",
    "Quadrante I: O ponto está localizado acima do eixo x (y > 0) e à direita do eixo y (x > 0).\n",
    "Quadrante II: O ponto está localizado acima do eixo x (y > 0) e à esquerda do eixo y (x < 0).\n",
    "Quadrante III: O ponto está localizado abaixo do eixo x (y < 0) e à esquerda do eixo y (x < 0).\n",
    "Quadrante IV: O ponto está localizado abaixo do eixo x (y < 0) e à direita do eixo y (x > 0).\n",
    "Aqui está um exemplo:\n",
    "Suponha que você tenha o ponto P com coordenadas (3, -4).\n",
    "Como y = -4, o ponto não está sobre o eixo x nem sobre o eixo y.\n",
    "Como x = 3 e y = -4, o ponto está localizado no Quadrante III.\n",
    "Lembre-se de que essas convenções são importantes em matemática e gráficos, pois ajudam a localizar e identificar posições de pontos em um plano cartesiano."
   ]
  },
  {
   "cell_type": "code",
   "execution_count": 10,
   "metadata": {},
   "outputs": [
    {
     "name": "stdout",
     "output_type": "stream",
     "text": [
      "Eixo X\n"
     ]
    }
   ],
   "source": [
    "X, Y = map(float, input().split())\n",
    "\n",
    "if X == Y == 0:\n",
    "    print(\"Origem\")\n",
    "\n",
    "elif Y == 0:\n",
    "    print(\"Eixo X\")\n",
    "elif X == 0:\n",
    "    print(\"Eixo Y\")\n",
    "\n",
    "elif Y > 0 and X > 0:\n",
    "    print(\"Q1\")\n",
    "elif Y > 0 and X < 0:\n",
    "    print(\"Q2\")\n",
    "elif  Y < 0 and X < 0:\n",
    "    print(\"Q3\")\n",
    "else: \n",
    "    print(\"Q4\")\n",
    "\n",
    "\n",
    "\n"
   ]
  },
  {
   "cell_type": "code",
   "execution_count": null,
   "metadata": {},
   "outputs": [],
   "source": []
  }
 ],
 "metadata": {
  "kernelspec": {
   "display_name": "Python 3",
   "language": "python",
   "name": "python3"
  },
  "language_info": {
   "codemirror_mode": {
    "name": "ipython",
    "version": 3
   },
   "file_extension": ".py",
   "mimetype": "text/x-python",
   "name": "python",
   "nbconvert_exporter": "python",
   "pygments_lexer": "ipython3",
   "version": "3.11.3"
  },
  "orig_nbformat": 4
 },
 "nbformat": 4,
 "nbformat_minor": 2
}
